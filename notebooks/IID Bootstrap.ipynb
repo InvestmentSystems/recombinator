{
 "cells": [
  {
   "cell_type": "code",
   "execution_count": 1,
   "metadata": {
    "ExecuteTime": {
     "end_time": "2020-02-05T10:15:05.743944Z",
     "start_time": "2020-02-05T10:15:05.725334Z"
    }
   },
   "outputs": [],
   "source": [
    "%load_ext autoreload\n",
    "%autoreload 2"
   ]
  },
  {
   "cell_type": "code",
   "execution_count": 2,
   "metadata": {
    "ExecuteTime": {
     "end_time": "2020-02-05T10:15:05.758325Z",
     "start_time": "2020-02-05T10:15:05.745853Z"
    }
   },
   "outputs": [],
   "source": [
    "# %load_ext line_profiler"
   ]
  },
  {
   "cell_type": "code",
   "execution_count": 3,
   "metadata": {
    "ExecuteTime": {
     "end_time": "2020-02-05T10:15:07.015700Z",
     "start_time": "2020-02-05T10:15:05.760532Z"
    }
   },
   "outputs": [],
   "source": [
    "import line_profiler\n",
    "import math\n",
    "import matplotlib\n",
    "import numba\n",
    "import numpy as np\n",
    "import pandas as pd\n",
    "import matplotlib.pyplot as plt\n",
    "%matplotlib inline\n",
    "import typing as tp"
   ]
  },
  {
   "cell_type": "code",
   "execution_count": 4,
   "metadata": {
    "ExecuteTime": {
     "end_time": "2020-02-05T10:15:07.055443Z",
     "start_time": "2020-02-05T10:15:07.017692Z"
    }
   },
   "outputs": [],
   "source": [
    "from recombinator.iid_bootstrap import \\\n",
    "    iid_balanced_bootstrap, \\\n",
    "    iid_bootstrap, \\\n",
    "    iid_bootstrap_vectorized, \\\n",
    "    iid_bootstrap_via_choice, \\\n",
    "    iid_bootstrap_via_loop, \\\n",
    "    iid_bootstrap_with_antithetic_resampling"
   ]
  },
  {
   "cell_type": "code",
   "execution_count": 5,
   "metadata": {
    "ExecuteTime": {
     "end_time": "2020-02-05T10:15:07.081993Z",
     "start_time": "2020-02-05T10:15:07.057056Z"
    }
   },
   "outputs": [],
   "source": [
    "from recombinator.statistics import \\\n",
    "    estimate_bias_from_bootstrap, \\\n",
    "    estimate_confidence_interval_from_bootstrap, \\\n",
    "    estimate_standard_error_from_bootstrap"
   ]
  },
  {
   "cell_type": "markdown",
   "metadata": {},
   "source": [
    "# I.I.D. Bootstrap: Examples and Performance Analysis"
   ]
  },
  {
   "cell_type": "markdown",
   "metadata": {},
   "source": [
    "The bootstrap is a statistical resampling method typically used to determine the finite sample properties of an estimator.\n",
    "\n",
    "Recombinator provides non-parametric bootstrap methods for both i.i.d. and dependent data. This notebook covers the i.i.d case.\n",
    "\n",
    "The discussion is based on Kevin Sheppard's course notes available at: https://www.kevinsheppard.com/images/6/64/AFE_Week_1_handout.pdf"
   ]
  },
  {
   "cell_type": "markdown",
   "metadata": {},
   "source": [
    "# An Introductory Example"
   ]
  },
  {
   "cell_type": "markdown",
   "metadata": {},
   "source": [
    "Consider an i.i.d. sample $\\{x_1, ..., x_n\\}$ coming from a random variable $x$. \n",
    "\n",
    "* An unbiased estimator for the mean is $\\bar{x}=\\frac{1}{n} \\sum_{i=1}^n x_i$.\n",
    "* One is often interested in aspects of the distribution of an estimator such quantiles or confidence intervals.\n",
    "* One way to approximate the distribution of this estimator is to resort to asymtotic theory. Under weak assumptions, as the sample size approaches infinity, the estimator is normally distributed with the sample mean equal to the true mean of the $x$ and a the standard deviation equal to the standard error.\n",
    "* The variance of the estimator is given by\n",
    "$ \\text{SE} \\left[ \\bar{x} \\right]^2 = \\text{Var} \\left[ \\bar{x} \\right] = \\text{Var} \\left[ \\frac{1}{n} \\sum_{i=1}^n x_i \\right] = \\frac{1}{n^2} n \\text{Var} \\left[ x \\right] = \\frac{1}{n} \\text{Var} \\left[ x \\right]$.\n",
    "* Hence, the asymptotic distribution of $\\bar{x}$ is $N \\left( \\text{E} \\left[ x \\right], \\frac{1}{n} \\text{Var} \\left[ x \\right] \\right)$.\n",
    "* In practice, the mean $\\text{E} \\left[ x \\right]$ and the variance $\\text{Var} \\left[ x \\right]$ are replaced by their sample analogues $\\bar{x}$ and $\\frac{1}{n-1} \\sum_{i=1}^n \\left( x_i - \\bar{x} \\right)^2$.\n",
    "\n",
    "There are two central questions:\n",
    "* How much does the actual distribution for a finite sample size n differ from the limiting distribution as n approaches infinity?\n",
    "* How do we determine the distribution of statistics other than the mean?\n",
    "\n",
    "The bootstrap can be used to approximate the final sample distribution of statistic by Monte Carlo simulation. "
   ]
  },
  {
   "cell_type": "markdown",
   "metadata": {},
   "source": [
    "# Overview"
   ]
  },
  {
   "cell_type": "markdown",
   "metadata": {},
   "source": [
    "The idea is to generate R new samples (known as replications) from the original sample with replacement and estimate the statistic (e.g. the sample mean) from each sample. The resulting set of estimates can then be used to compute quantiles and moments of the distribution of the estimator. \n",
    "\n",
    "One variation is do draw samples of smaller size $\\tilde{n} < n$. This is known as subsampling.\n",
    "\n",
    "Ideally, we would compute all permuations (or combinations if order does not matter as for the mean) of the original sample. But this grows computaionally infeasible for all but the very smallest samples. This is why we use Monte Carlo to draw a smaller set of new samples."
   ]
  },
  {
   "cell_type": "markdown",
   "metadata": {},
   "source": [
    "# I.I.D. Methods"
   ]
  },
  {
   "cell_type": "markdown",
   "metadata": {},
   "source": [
    "## Non-Balanced Bootstrap"
   ]
  },
  {
   "cell_type": "markdown",
   "metadata": {},
   "source": [
    "This is the most basic bootstrap approach. For each replication (subsample) r, we draw n random integers as indices into the original data array and return the values at these indices."
   ]
  },
  {
   "cell_type": "markdown",
   "metadata": {},
   "source": [
    "## Non-Balanced Bootstrap with Antithetic Sampling"
   ]
  },
  {
   "cell_type": "markdown",
   "metadata": {},
   "source": [
    "Antithetic sampling is a variance reduction technique commonly used in Monte Carlo simulations. The central idea is to construct negatively correlated samples. This is achieved by first sorting the data. As in the basic bootstrap, one draws a set of indices for each replication. Denote the $i$th sampled index in replication $r$ by $u_{r, i}$. Antithetic samples are then generatet by constructing alternative sequences of indices $\\tilde{u}_{r, i} = n - u_{r, i} - 1$"
   ]
  },
  {
   "cell_type": "markdown",
   "metadata": {},
   "source": [
    "## Balanced Bootstrap"
   ]
  },
  {
   "cell_type": "markdown",
   "metadata": {},
   "source": [
    "Due to random sampling, some observations appear more often in the R new samples than others. The balanced bootstrap ensures that all original values appear exact R times across the R new samples. Of course in any given sample a particular observation may appear multiple times or not at all."
   ]
  },
  {
   "cell_type": "markdown",
   "metadata": {},
   "source": [
    "In what follows, we are comparing different implementations of these algorithms."
   ]
  },
  {
   "cell_type": "markdown",
   "metadata": {},
   "source": [
    "# Resampling in Practice"
   ]
  },
  {
   "cell_type": "markdown",
   "metadata": {},
   "source": [
    "Let's generate an original random sample from a normal distribution of size 100 and take the absolute value."
   ]
  },
  {
   "cell_type": "code",
   "execution_count": 6,
   "metadata": {
    "ExecuteTime": {
     "end_time": "2020-02-05T10:15:07.260395Z",
     "start_time": "2020-02-05T10:15:07.083632Z"
    }
   },
   "outputs": [
    {
     "data": {
      "image/png": "[encoded data removed]",
      "text/plain": [
       "<Figure size 432x288 with 1 Axes>"
      ]
     },
     "metadata": {
      "needs_background": "light"
     },
     "output_type": "display_data"
    }
   ],
   "source": [
    "n=100\n",
    "np.random.seed(1)\n",
    "x = np.abs(np.random.randn(n))\n",
    "plt.hist(x);"
   ]
  },
  {
   "cell_type": "markdown",
   "metadata": {},
   "source": [
    "Estimate the 75th percentile from the original sample"
   ]
  },
  {
   "cell_type": "code",
   "execution_count": 7,
   "metadata": {
    "ExecuteTime": {
     "end_time": "2020-02-05T10:15:07.281861Z",
     "start_time": "2020-02-05T10:15:07.261782Z"
    }
   },
   "outputs": [
    {
     "data": {
      "text/plain": [
       "0.9322689195424352"
      ]
     },
     "execution_count": 7,
     "metadata": {},
     "output_type": "execute_result"
    }
   ],
   "source": [
    "percentile = 75\n",
    "original_statistic = np.percentile(x, percentile)\n",
    "original_statistic"
   ]
  },
  {
   "cell_type": "markdown",
   "metadata": {},
   "source": [
    "Generate R new samples from the original sample via bootstrap"
   ]
  },
  {
   "cell_type": "code",
   "execution_count": 8,
   "metadata": {
    "ExecuteTime": {
     "end_time": "2020-02-05T10:15:08.559685Z",
     "start_time": "2020-02-05T10:15:07.284015Z"
    }
   },
   "outputs": [
    {
     "data": {
      "text/plain": [
       "(100000, 100)"
      ]
     },
     "execution_count": 8,
     "metadata": {},
     "output_type": "execute_result"
    }
   ],
   "source": [
    "R = 100000\n",
    "x_resampled \\\n",
    "    = iid_bootstrap(x, replications=R)\n",
    "x_resampled.shape"
   ]
  },
  {
   "cell_type": "markdown",
   "metadata": {},
   "source": [
    "Estimate the 75th percentile in each of the new samples"
   ]
  },
  {
   "cell_type": "code",
   "execution_count": 9,
   "metadata": {
    "ExecuteTime": {
     "end_time": "2020-02-05T10:15:09.058963Z",
     "start_time": "2020-02-05T10:15:08.561509Z"
    }
   },
   "outputs": [
    {
     "data": {
      "image/png": "[encoded data removed]",
      "text/plain": [
       "<Figure size 432x288 with 1 Axes>"
      ]
     },
     "metadata": {
      "needs_background": "light"
     },
     "output_type": "display_data"
    }
   ],
   "source": [
    "resampled_statistic = np.percentile(x_resampled, percentile, axis=1)\n",
    "# resampled_statistic.shape\n",
    "plt.hist(resampled_statistic);"
   ]
  },
  {
   "cell_type": "markdown",
   "metadata": {},
   "source": [
    "Estimate the standard error of the estimate of the 75th percentile via bootstrap"
   ]
  },
  {
   "cell_type": "code",
   "execution_count": 10,
   "metadata": {
    "ExecuteTime": {
     "end_time": "2020-02-05T10:15:09.082344Z",
     "start_time": "2020-02-05T10:15:09.060982Z"
    }
   },
   "outputs": [
    {
     "data": {
      "text/plain": [
       "0.11226512901182582"
      ]
     },
     "execution_count": 10,
     "metadata": {},
     "output_type": "execute_result"
    }
   ],
   "source": [
    "estimate_standard_error_from_bootstrap(bootstrap_estimates=resampled_statistic,\n",
    "                                       original_estimate=original_statistic)"
   ]
  },
  {
   "cell_type": "markdown",
   "metadata": {},
   "source": [
    "Estimate a 95% confidence interval via bootstrap"
   ]
  },
  {
   "cell_type": "code",
   "execution_count": 11,
   "metadata": {
    "ExecuteTime": {
     "end_time": "2020-02-05T10:15:09.109532Z",
     "start_time": "2020-02-05T10:15:09.083747Z"
    }
   },
   "outputs": [
    {
     "data": {
      "text/plain": [
       "(0.8405389707805585, 1.1343515900941052)"
      ]
     },
     "execution_count": 11,
     "metadata": {},
     "output_type": "execute_result"
    }
   ],
   "source": [
    "estimate_confidence_interval_from_bootstrap(bootstrap_estimates=resampled_statistic, \n",
    "                                            confidence_level=95)"
   ]
  },
  {
   "cell_type": "code",
   "execution_count": 12,
   "metadata": {
    "ExecuteTime": {
     "end_time": "2020-02-05T10:15:09.133874Z",
     "start_time": "2020-02-05T10:15:09.110833Z"
    }
   },
   "outputs": [],
   "source": [
    "# estimate"
   ]
  },
  {
   "cell_type": "markdown",
   "metadata": {},
   "source": [
    "# Monte-Carlo Study to for the Estimate the Mean of a Normally Distributed Random Variable"
   ]
  },
  {
   "cell_type": "markdown",
   "metadata": {},
   "source": [
    "Define a linear transformation of the data"
   ]
  },
  {
   "cell_type": "code",
   "execution_count": 13,
   "metadata": {
    "ExecuteTime": {
     "end_time": "2020-02-05T10:15:09.158053Z",
     "start_time": "2020-02-05T10:15:09.135276Z"
    }
   },
   "outputs": [],
   "source": [
    "a = 0.0\n",
    "b = 1.0\n",
    "\n",
    "def f(y):\n",
    "    return a + b * y"
   ]
  },
  {
   "cell_type": "code",
   "execution_count": 14,
   "metadata": {
    "ExecuteTime": {
     "end_time": "2020-02-05T10:15:09.907043Z",
     "start_time": "2020-02-05T10:15:09.159542Z"
    }
   },
   "outputs": [
    {
     "name": "stdout",
     "output_type": "stream",
     "text": [
      "estimate of mean from data=0.060582852075698704\n",
      "asymptotic standard error=0.08896154673124122\n",
      "asymptotic confidence interval=(-0.11378177951753408, 0.23494748366893148)\n"
     ]
    },
    {
     "data": {
      "text/html": [
       "<div>\n",
       "<style scoped>\n",
       "    .dataframe tbody tr th:only-of-type {\n",
       "        vertical-align: middle;\n",
       "    }\n",
       "\n",
       "    .dataframe tbody tr th {\n",
       "        vertical-align: top;\n",
       "    }\n",
       "\n",
       "    .dataframe thead th {\n",
       "        text-align: right;\n",
       "    }\n",
       "</style>\n",
       "<table border=\"1\" class=\"dataframe\">\n",
       "  <thead>\n",
       "    <tr style=\"text-align: right;\">\n",
       "      <th></th>\n",
       "      <th>Method</th>\n",
       "      <th>Bias</th>\n",
       "      <th>Standard Error</th>\n",
       "      <th>Confidence Interval</th>\n",
       "    </tr>\n",
       "  </thead>\n",
       "  <tbody>\n",
       "    <tr>\n",
       "      <th>0</th>\n",
       "      <td>Non-Balanced Bootstrap via Unified Loop</td>\n",
       "      <td>2.508114e-04</td>\n",
       "      <td>0.088819</td>\n",
       "      <td>(-0.11612777210771391, 0.23775586355892206)</td>\n",
       "    </tr>\n",
       "    <tr>\n",
       "      <th>1</th>\n",
       "      <td>Non-Balanced Bootstrap via Unified Loop with A...</td>\n",
       "      <td>-8.476512e-05</td>\n",
       "      <td>0.087984</td>\n",
       "      <td>(-0.10948797286733716, 0.23059775070490787)</td>\n",
       "    </tr>\n",
       "    <tr>\n",
       "      <th>2</th>\n",
       "      <td>Non-Balanced Bootstrap via Separated Loop</td>\n",
       "      <td>5.850231e-04</td>\n",
       "      <td>0.088184</td>\n",
       "      <td>(-0.11090258556582244, 0.23615919647279707)</td>\n",
       "    </tr>\n",
       "    <tr>\n",
       "      <th>3</th>\n",
       "      <td>Non-Balanced Bootstrap via Choice</td>\n",
       "      <td>-2.030463e-04</td>\n",
       "      <td>0.089394</td>\n",
       "      <td>(-0.11831666975462576, 0.23246468531112455)</td>\n",
       "    </tr>\n",
       "    <tr>\n",
       "      <th>4</th>\n",
       "      <td>Non-Balanced Bootstrap Vectorized</td>\n",
       "      <td>7.827090e-04</td>\n",
       "      <td>0.087420</td>\n",
       "      <td>(-0.10931881037908066, 0.23515657563833328)</td>\n",
       "    </tr>\n",
       "    <tr>\n",
       "      <th>5</th>\n",
       "      <td>Non-Balanced Bootstrap with Antithetic Sampling</td>\n",
       "      <td>-1.883085e-04</td>\n",
       "      <td>0.089721</td>\n",
       "      <td>(-0.11647626590378611, 0.23608329402734266)</td>\n",
       "    </tr>\n",
       "    <tr>\n",
       "      <th>6</th>\n",
       "      <td>Balanced Bootstrap</td>\n",
       "      <td>-1.387779e-17</td>\n",
       "      <td>0.088082</td>\n",
       "      <td>(-0.11216277947100585, 0.23434467001002396)</td>\n",
       "    </tr>\n",
       "  </tbody>\n",
       "</table>\n",
       "</div>"
      ],
      "text/plain": [
       "                                              Method          Bias  \\\n",
       "0            Non-Balanced Bootstrap via Unified Loop  2.508114e-04   \n",
       "1  Non-Balanced Bootstrap via Unified Loop with A... -8.476512e-05   \n",
       "2          Non-Balanced Bootstrap via Separated Loop  5.850231e-04   \n",
       "3                  Non-Balanced Bootstrap via Choice -2.030463e-04   \n",
       "4                  Non-Balanced Bootstrap Vectorized  7.827090e-04   \n",
       "5    Non-Balanced Bootstrap with Antithetic Sampling -1.883085e-04   \n",
       "6                                 Balanced Bootstrap -1.387779e-17   \n",
       "\n",
       "   Standard Error                          Confidence Interval  \n",
       "0        0.088819  (-0.11612777210771391, 0.23775586355892206)  \n",
       "1        0.087984  (-0.10948797286733716, 0.23059775070490787)  \n",
       "2        0.088184  (-0.11090258556582244, 0.23615919647279707)  \n",
       "3        0.089394  (-0.11831666975462576, 0.23246468531112455)  \n",
       "4        0.087420  (-0.10931881037908066, 0.23515657563833328)  \n",
       "5        0.089721  (-0.11647626590378611, 0.23608329402734266)  \n",
       "6        0.088082  (-0.11216277947100585, 0.23434467001002396)  "
      ]
     },
     "execution_count": 14,
     "metadata": {},
     "output_type": "execute_result"
    }
   ],
   "source": [
    "bootstrap_function_name_to_function_map \\\n",
    "    = {'Non-Balanced Bootstrap via Unified Loop': iid_bootstrap,\n",
    "       'Non-Balanced Bootstrap via Unified Loop with Antithetic Sampling': \n",
    "       lambda x, replications: iid_bootstrap(x, \n",
    "                                             replications=replications, \n",
    "                                             antithetic=True),\n",
    "       'Non-Balanced Bootstrap via Separated Loop': iid_bootstrap_via_loop,\n",
    "       'Non-Balanced Bootstrap via Choice': iid_bootstrap_via_choice,\n",
    "       'Non-Balanced Bootstrap Vectorized': iid_bootstrap_vectorized,\n",
    "       'Non-Balanced Bootstrap with Antithetic Sampling': iid_bootstrap_with_antithetic_resampling,\n",
    "       'Balanced Bootstrap': iid_balanced_bootstrap}\n",
    "\n",
    "np.random.seed(1)\n",
    "\n",
    "n = 100\n",
    "x = np.random.randn(n)\n",
    "\n",
    "# compute sample-average of f(x)\n",
    "theta = np.mean(f(x))\n",
    "s2 = 1.0 / (n-1) * np.sum((f(x) - theta)**2)\n",
    "standard_error = s2/n\n",
    "replications = 10000\n",
    "\n",
    "# initialize lists to hold results\n",
    "bootstrap_methods = []\n",
    "bootstrap_estimates_of_bias = []\n",
    "bootstrap_estimates_of_standard_error = []\n",
    "bootstrap_confidence_intervals = []\n",
    "\n",
    "for (bootstrap_name, bootstrap_function) in bootstrap_function_name_to_function_map.items():\n",
    "    x_star = bootstrap_function(x, replications=replications)\n",
    "    theta_star = np.mean(f(x_star), axis=1)\n",
    "\n",
    "    bootstrap_estimate_of_bias = estimate_bias_from_bootstrap(theta_star, theta)\n",
    "    bootstrap_estimate_of_standard_error = estimate_standard_error_from_bootstrap(theta_star, theta)\n",
    "    bootstrap_confidence_interval = estimate_confidence_interval_from_bootstrap(theta_star)\n",
    "        \n",
    "    bootstrap_methods.append(bootstrap_name)\n",
    "    bootstrap_estimates_of_bias.append(bootstrap_estimate_of_bias)\n",
    "    bootstrap_estimates_of_standard_error.append(bootstrap_estimate_of_standard_error)\n",
    "    bootstrap_confidence_intervals.append(bootstrap_confidence_interval)\n",
    "\n",
    "print(f'estimate of mean from data={theta}')\n",
    "print(f'asymptotic standard error={np.sqrt(standard_error)}')\n",
    "print(f'asymptotic confidence interval=({theta - 1.96 * np.sqrt(standard_error)}, {theta + 1.96 * np.sqrt(standard_error)})')\n",
    "\n",
    "df = pd.DataFrame(data={'Method': bootstrap_methods, \n",
    "                        'Bias': bootstrap_estimates_of_bias, \n",
    "                        'Standard Error': bootstrap_estimates_of_standard_error,\n",
    "                        'Confidence Interval': bootstrap_confidence_intervals})\n",
    "df = df[['Method', 'Bias', 'Standard Error', 'Confidence Interval']]\n",
    "df"
   ]
  },
  {
   "cell_type": "markdown",
   "metadata": {},
   "source": [
    "We see that in this case of a linear statistic of a normally distributed random variable, the asymptotic approximation of the confidence interval is very close to the actual finite sample result from the bootstrap."
   ]
  },
  {
   "cell_type": "markdown",
   "metadata": {},
   "source": [
    "# Monte-Carlo Study for the Estimate of a Non-Linear Function of a Multi-Variate Normal Distribution"
   ]
  },
  {
   "cell_type": "markdown",
   "metadata": {},
   "source": [
    "Define a nonlinear transformation of the data"
   ]
  },
  {
   "cell_type": "code",
   "execution_count": 15,
   "metadata": {
    "ExecuteTime": {
     "end_time": "2020-02-05T10:15:09.932353Z",
     "start_time": "2020-02-05T10:15:09.908780Z"
    }
   },
   "outputs": [],
   "source": [
    "def g(x):\n",
    "    return 2 + x**2 + 3 * x**3 + np.exp(x)"
   ]
  },
  {
   "cell_type": "markdown",
   "metadata": {
    "ExecuteTime": {
     "end_time": "2019-06-12T00:59:20.234617Z",
     "start_time": "2019-06-12T00:59:20.214791Z"
    }
   },
   "source": [
    "Perform Monte Carlo experiment with different algorithms"
   ]
  },
  {
   "cell_type": "code",
   "execution_count": 16,
   "metadata": {
    "ExecuteTime": {
     "end_time": "2020-02-05T10:15:14.901476Z",
     "start_time": "2020-02-05T10:15:09.933648Z"
    },
    "scrolled": false
   },
   "outputs": [
    {
     "name": "stdout",
     "output_type": "stream",
     "text": [
      "estimate of mean from data=4.604871361908453\n",
      "asymptotic standard error=0.642854070168613\n",
      "asymptotic confidence interval=(3.3448773843779716, 5.864865339438934)\n"
     ]
    },
    {
     "data": {
      "text/html": [
       "<div>\n",
       "<style scoped>\n",
       "    .dataframe tbody tr th:only-of-type {\n",
       "        vertical-align: middle;\n",
       "    }\n",
       "\n",
       "    .dataframe tbody tr th {\n",
       "        vertical-align: top;\n",
       "    }\n",
       "\n",
       "    .dataframe thead th {\n",
       "        text-align: right;\n",
       "    }\n",
       "</style>\n",
       "<table border=\"1\" class=\"dataframe\">\n",
       "  <thead>\n",
       "    <tr style=\"text-align: right;\">\n",
       "      <th></th>\n",
       "      <th>Method</th>\n",
       "      <th>Bias</th>\n",
       "      <th>Standard Error</th>\n",
       "      <th>Confidence Interval</th>\n",
       "    </tr>\n",
       "  </thead>\n",
       "  <tbody>\n",
       "    <tr>\n",
       "      <th>0</th>\n",
       "      <td>Non-Balanced Bootstrap via Unified Loop</td>\n",
       "      <td>-1.773353e-03</td>\n",
       "      <td>0.686792</td>\n",
       "      <td>(3.7043546315683233, 5.611964808642076)</td>\n",
       "    </tr>\n",
       "    <tr>\n",
       "      <th>1</th>\n",
       "      <td>Non-Balanced Bootstrap via Separeted Loop</td>\n",
       "      <td>-1.752938e-03</td>\n",
       "      <td>0.683827</td>\n",
       "      <td>(3.7085836928862315, 5.611086827755084)</td>\n",
       "    </tr>\n",
       "    <tr>\n",
       "      <th>2</th>\n",
       "      <td>Non-Balanced Bootstrap Vectorized</td>\n",
       "      <td>-3.853252e-03</td>\n",
       "      <td>0.685835</td>\n",
       "      <td>(3.7135701200538787, 5.596928977302211)</td>\n",
       "    </tr>\n",
       "    <tr>\n",
       "      <th>3</th>\n",
       "      <td>Balanced Bootstrap</td>\n",
       "      <td>-8.881784e-16</td>\n",
       "      <td>0.689531</td>\n",
       "      <td>(3.703791509103679, 5.604846174381272)</td>\n",
       "    </tr>\n",
       "  </tbody>\n",
       "</table>\n",
       "</div>"
      ],
      "text/plain": [
       "                                      Method          Bias  Standard Error  \\\n",
       "0    Non-Balanced Bootstrap via Unified Loop -1.773353e-03        0.686792   \n",
       "1  Non-Balanced Bootstrap via Separeted Loop -1.752938e-03        0.683827   \n",
       "2          Non-Balanced Bootstrap Vectorized -3.853252e-03        0.685835   \n",
       "3                         Balanced Bootstrap -8.881784e-16        0.689531   \n",
       "\n",
       "                       Confidence Interval  \n",
       "0  (3.7043546315683233, 5.611964808642076)  \n",
       "1  (3.7085836928862315, 5.611086827755084)  \n",
       "2  (3.7135701200538787, 5.596928977302211)  \n",
       "3   (3.703791509103679, 5.604846174381272)  "
      ]
     },
     "execution_count": 16,
     "metadata": {},
     "output_type": "execute_result"
    }
   ],
   "source": [
    "bootstrap_function_name_to_function_map \\\n",
    "    = {'Non-Balanced Bootstrap via Unified Loop': iid_bootstrap,\n",
    "       'Non-Balanced Bootstrap via Separeted Loop': iid_bootstrap_via_loop,\n",
    "       'Non-Balanced Bootstrap Vectorized': iid_bootstrap_vectorized,\n",
    "       'Balanced Bootstrap': iid_balanced_bootstrap}\n",
    "\n",
    "np.random.seed(1)\n",
    "\n",
    "n = 1000\n",
    "x = np.random.multivariate_normal(mean=[0, 0], cov=[[1, 0.25], [0.25, 1]], size=n)\n",
    "\n",
    "# compute estimate of the sample-average of g(x) \n",
    "# and its standard error\n",
    "theta = np.mean(g(x))\n",
    "s2 = 1.0 / (n-1) * np.sum((g(x) - theta)**2)\n",
    "standard_error = s2/n\n",
    "\n",
    "# number of replications\n",
    "replications = 10000\n",
    "\n",
    "# initialize lists to hold results\n",
    "bootstrap_methods = []\n",
    "bootstrap_estimates_of_bias = []\n",
    "bootstrap_estimates_of_standard_error = []\n",
    "bootstrap_confidence_intervals = []\n",
    "\n",
    "for (bootstrap_name, bootstrap_function) in bootstrap_function_name_to_function_map.items():\n",
    "    x_star = bootstrap_function(x, replications=replications)\n",
    "    theta_star = np.mean(g(x_star), axis=1)\n",
    "\n",
    "    bootstrap_estimate_of_bias = estimate_bias_from_bootstrap(theta_star, theta)\n",
    "    bootstrap_estimate_of_standard_error = estimate_standard_error_from_bootstrap(theta_star, theta)\n",
    "    bootstrap_confidence_interval = estimate_confidence_interval_from_bootstrap(theta_star)\n",
    "        \n",
    "    bootstrap_methods.append(bootstrap_name)\n",
    "    bootstrap_estimates_of_bias.append(bootstrap_estimate_of_bias)\n",
    "    bootstrap_estimates_of_standard_error.append(bootstrap_estimate_of_standard_error)\n",
    "    bootstrap_confidence_intervals.append(bootstrap_confidence_interval)\n",
    "\n",
    "print(f'estimate of mean from data={theta}')\n",
    "print(f'asymptotic standard error={np.sqrt(standard_error)}')\n",
    "print(f'asymptotic confidence interval=({theta - 1.96 * np.sqrt(standard_error)}, {theta + 1.96 * np.sqrt(standard_error)})')\n",
    "\n",
    "df = pd.DataFrame(data={'Method': bootstrap_methods, \n",
    "                        'Bias': bootstrap_estimates_of_bias, \n",
    "                        'Standard Error': bootstrap_estimates_of_standard_error,\n",
    "                        'Confidence Interval': bootstrap_confidence_intervals})\n",
    "df = df[['Method', 'Bias', 'Standard Error', 'Confidence Interval']]\n",
    "df"
   ]
  },
  {
   "cell_type": "markdown",
   "metadata": {},
   "source": [
    "Note that in the case of this non-linear transformation, the asymptotic approximation is not quite as accurate as in the case of a linear transformation. Feel free to increase the sample size n in the above example to see how the accuracy of the asymptotic approximation improves as n approaches infinity."
   ]
  },
  {
   "cell_type": "markdown",
   "metadata": {},
   "source": [
    "# Performance Analysis"
   ]
  },
  {
   "cell_type": "markdown",
   "metadata": {},
   "source": [
    "## Performance Analysis of One-Dimensional Bootstrap"
   ]
  },
  {
   "cell_type": "markdown",
   "metadata": {},
   "source": [
    "Length of Data to Sample From"
   ]
  },
  {
   "cell_type": "code",
   "execution_count": 17,
   "metadata": {
    "ExecuteTime": {
     "end_time": "2020-02-05T10:15:14.923504Z",
     "start_time": "2020-02-05T10:15:14.903059Z"
    }
   },
   "outputs": [],
   "source": [
    "n = 1000"
   ]
  },
  {
   "cell_type": "markdown",
   "metadata": {},
   "source": [
    "Generate Data to Sample From"
   ]
  },
  {
   "cell_type": "code",
   "execution_count": 18,
   "metadata": {
    "ExecuteTime": {
     "end_time": "2020-02-05T10:15:14.944258Z",
     "start_time": "2020-02-05T10:15:14.924629Z"
    }
   },
   "outputs": [],
   "source": [
    "x_1d = np.random.randn(n)"
   ]
  },
  {
   "cell_type": "markdown",
   "metadata": {},
   "source": [
    "Number of Replications"
   ]
  },
  {
   "cell_type": "code",
   "execution_count": 19,
   "metadata": {
    "ExecuteTime": {
     "end_time": "2020-02-05T10:15:14.965050Z",
     "start_time": "2020-02-05T10:15:14.945481Z"
    }
   },
   "outputs": [],
   "source": [
    "replications = 10000"
   ]
  },
  {
   "cell_type": "markdown",
   "metadata": {},
   "source": [
    "### Implementation of Non-Balanced Boostrap via Unified Loops"
   ]
  },
  {
   "cell_type": "code",
   "execution_count": 20,
   "metadata": {
    "ExecuteTime": {
     "end_time": "2020-02-05T10:15:15.065365Z",
     "start_time": "2020-02-05T10:15:14.966247Z"
    }
   },
   "outputs": [],
   "source": [
    "x_star = iid_bootstrap(x_1d, replications=replications, antithetic=False)"
   ]
  },
  {
   "cell_type": "code",
   "execution_count": 21,
   "metadata": {
    "ExecuteTime": {
     "end_time": "2020-02-05T10:15:15.090590Z",
     "start_time": "2020-02-05T10:15:15.066836Z"
    }
   },
   "outputs": [
    {
     "data": {
      "text/plain": [
       "(10000, 1000)"
      ]
     },
     "execution_count": 21,
     "metadata": {},
     "output_type": "execute_result"
    }
   ],
   "source": [
    "x_star.shape"
   ]
  },
  {
   "cell_type": "code",
   "execution_count": 22,
   "metadata": {
    "ExecuteTime": {
     "end_time": "2020-02-05T10:15:21.004564Z",
     "start_time": "2020-02-05T10:15:15.091977Z"
    }
   },
   "outputs": [
    {
     "name": "stdout",
     "output_type": "stream",
     "text": [
      "72.4 ms ± 1.3 ms per loop (mean ± std. dev. of 7 runs, 10 loops each)\n"
     ]
    }
   ],
   "source": [
    "%timeit iid_bootstrap(x_1d, replications=replications, antithetic=False)"
   ]
  },
  {
   "cell_type": "markdown",
   "metadata": {},
   "source": [
    "### Implementation of Non-Balanced Boostrap via Separate Loops"
   ]
  },
  {
   "cell_type": "code",
   "execution_count": 23,
   "metadata": {
    "ExecuteTime": {
     "end_time": "2020-02-05T10:15:21.087504Z",
     "start_time": "2020-02-05T10:15:21.007306Z"
    }
   },
   "outputs": [],
   "source": [
    "x_star = iid_bootstrap_via_loop(x_1d, replications=replications)"
   ]
  },
  {
   "cell_type": "code",
   "execution_count": 24,
   "metadata": {
    "ExecuteTime": {
     "end_time": "2020-02-05T10:15:21.113508Z",
     "start_time": "2020-02-05T10:15:21.089435Z"
    }
   },
   "outputs": [
    {
     "data": {
      "text/plain": [
       "(10000, 1000)"
      ]
     },
     "execution_count": 24,
     "metadata": {},
     "output_type": "execute_result"
    }
   ],
   "source": [
    "x_star.shape"
   ]
  },
  {
   "cell_type": "code",
   "execution_count": 25,
   "metadata": {
    "ExecuteTime": {
     "end_time": "2020-02-05T10:15:25.888413Z",
     "start_time": "2020-02-05T10:15:21.114895Z"
    }
   },
   "outputs": [
    {
     "name": "stdout",
     "output_type": "stream",
     "text": [
      "59.1 ms ± 2.34 ms per loop (mean ± std. dev. of 7 runs, 10 loops each)\n"
     ]
    }
   ],
   "source": [
    "%timeit iid_bootstrap_via_loop(x_1d, replications=replications)"
   ]
  },
  {
   "cell_type": "markdown",
   "metadata": {},
   "source": [
    "### Implementation via NumPy Choice of Non-Balanced Boostrap"
   ]
  },
  {
   "cell_type": "code",
   "execution_count": 26,
   "metadata": {
    "ExecuteTime": {
     "end_time": "2020-02-05T10:15:32.699878Z",
     "start_time": "2020-02-05T10:15:25.889932Z"
    }
   },
   "outputs": [
    {
     "name": "stdout",
     "output_type": "stream",
     "text": [
      "84.4 ms ± 2.16 ms per loop (mean ± std. dev. of 7 runs, 10 loops each)\n"
     ]
    }
   ],
   "source": [
    "%timeit iid_bootstrap_via_choice(x_1d, replications=replications)"
   ]
  },
  {
   "cell_type": "markdown",
   "metadata": {},
   "source": [
    "### Vectorized Implementation of Non-Balanced Boostrap"
   ]
  },
  {
   "cell_type": "code",
   "execution_count": 27,
   "metadata": {
    "ExecuteTime": {
     "end_time": "2020-02-05T10:15:39.040523Z",
     "start_time": "2020-02-05T10:15:32.701285Z"
    }
   },
   "outputs": [
    {
     "name": "stdout",
     "output_type": "stream",
     "text": [
      "77.4 ms ± 1.28 ms per loop (mean ± std. dev. of 7 runs, 10 loops each)\n"
     ]
    }
   ],
   "source": [
    "%timeit iid_bootstrap_vectorized(x_1d, replications=replications)"
   ]
  },
  {
   "cell_type": "code",
   "execution_count": 28,
   "metadata": {
    "ExecuteTime": {
     "end_time": "2020-02-05T10:15:39.066542Z",
     "start_time": "2020-02-05T10:15:39.042387Z"
    }
   },
   "outputs": [],
   "source": [
    "# %lprun -f iid_bootstrap_vectorized \\\n",
    "#           iid_bootstrap_vectorized(x, replications=replications)"
   ]
  },
  {
   "cell_type": "markdown",
   "metadata": {},
   "source": [
    "### Vectorized Implementation of Non-Balanced Boostrap with Antithetic Sampling"
   ]
  },
  {
   "cell_type": "code",
   "execution_count": 29,
   "metadata": {
    "ExecuteTime": {
     "end_time": "2020-02-05T10:15:45.694403Z",
     "start_time": "2020-02-05T10:15:39.068075Z"
    }
   },
   "outputs": [
    {
     "name": "stdout",
     "output_type": "stream",
     "text": [
      "81.3 ms ± 3.56 ms per loop (mean ± std. dev. of 7 runs, 10 loops each)\n"
     ]
    }
   ],
   "source": [
    "%timeit iid_bootstrap_with_antithetic_resampling(x_1d, replications=replications)"
   ]
  },
  {
   "cell_type": "code",
   "execution_count": 30,
   "metadata": {
    "ExecuteTime": {
     "end_time": "2020-02-05T10:15:45.721086Z",
     "start_time": "2020-02-05T10:15:45.696307Z"
    }
   },
   "outputs": [],
   "source": [
    "# %lprun -f iid_bootstrap_with_antithetic_resampling \\\n",
    "#           iid_bootstrap_with_antithetic_resampling(x, replications=replications)"
   ]
  },
  {
   "cell_type": "markdown",
   "metadata": {},
   "source": [
    "### Balanced Bootstrap"
   ]
  },
  {
   "cell_type": "code",
   "execution_count": 31,
   "metadata": {
    "ExecuteTime": {
     "end_time": "2020-02-05T10:15:49.626790Z",
     "start_time": "2020-02-05T10:15:45.722822Z"
    }
   },
   "outputs": [
    {
     "name": "stdout",
     "output_type": "stream",
     "text": [
      "481 ms ± 11.6 ms per loop (mean ± std. dev. of 7 runs, 1 loop each)\n"
     ]
    }
   ],
   "source": [
    "%timeit iid_balanced_bootstrap(x_1d, replications=replications)"
   ]
  },
  {
   "cell_type": "code",
   "execution_count": 32,
   "metadata": {
    "ExecuteTime": {
     "end_time": "2020-02-05T10:15:49.654290Z",
     "start_time": "2020-02-05T10:15:49.628495Z"
    }
   },
   "outputs": [],
   "source": [
    "# %lprun -f iid_balanced_bootstrap \\\n",
    "#           iid_balanced_bootstrap(x, replications=replications)"
   ]
  },
  {
   "cell_type": "markdown",
   "metadata": {},
   "source": [
    "## Performance Analysis of Multivariate Bootstrap"
   ]
  },
  {
   "cell_type": "markdown",
   "metadata": {},
   "source": [
    "Length of Data to Sample From"
   ]
  },
  {
   "cell_type": "code",
   "execution_count": 33,
   "metadata": {
    "ExecuteTime": {
     "end_time": "2020-02-05T10:15:49.681702Z",
     "start_time": "2020-02-05T10:15:49.655851Z"
    }
   },
   "outputs": [],
   "source": [
    "n = 1000"
   ]
  },
  {
   "cell_type": "markdown",
   "metadata": {},
   "source": [
    "Generate Data to Sample From"
   ]
  },
  {
   "cell_type": "code",
   "execution_count": 34,
   "metadata": {
    "ExecuteTime": {
     "end_time": "2020-02-05T10:15:49.708144Z",
     "start_time": "2020-02-05T10:15:49.683175Z"
    }
   },
   "outputs": [],
   "source": [
    "x_2d = np.random.multivariate_normal(mean=[0, 0], cov=[[1, 0.25], [0.25, 1]], size=n)"
   ]
  },
  {
   "cell_type": "markdown",
   "metadata": {},
   "source": [
    "### Implementation of Non-Balanced Boostrap via Unified Loops"
   ]
  },
  {
   "cell_type": "code",
   "execution_count": 35,
   "metadata": {
    "ExecuteTime": {
     "end_time": "2020-02-05T10:15:49.929660Z",
     "start_time": "2020-02-05T10:15:49.709667Z"
    }
   },
   "outputs": [],
   "source": [
    "x_star = iid_bootstrap(x_2d, replications=replications, antithetic=False)"
   ]
  },
  {
   "cell_type": "code",
   "execution_count": 36,
   "metadata": {
    "ExecuteTime": {
     "end_time": "2020-02-05T10:16:06.012193Z",
     "start_time": "2020-02-05T10:15:49.930981Z"
    }
   },
   "outputs": [
    {
     "name": "stdout",
     "output_type": "stream",
     "text": [
      "198 ms ± 2.05 ms per loop (mean ± std. dev. of 7 runs, 10 loops each)\n"
     ]
    }
   ],
   "source": [
    "%timeit iid_bootstrap(x_2d, replications=replications, antithetic=False)"
   ]
  },
  {
   "cell_type": "markdown",
   "metadata": {},
   "source": [
    "### Implementation of Non-Balanced Boostrap via Separate Loops"
   ]
  },
  {
   "cell_type": "code",
   "execution_count": 37,
   "metadata": {
    "ExecuteTime": {
     "end_time": "2020-02-05T10:16:06.142856Z",
     "start_time": "2020-02-05T10:16:06.013411Z"
    }
   },
   "outputs": [],
   "source": [
    "x_star = iid_bootstrap_via_loop(x_2d, replications=replications)"
   ]
  },
  {
   "cell_type": "code",
   "execution_count": 38,
   "metadata": {
    "ExecuteTime": {
     "end_time": "2020-02-05T10:16:14.514989Z",
     "start_time": "2020-02-05T10:16:06.144202Z"
    }
   },
   "outputs": [
    {
     "name": "stdout",
     "output_type": "stream",
     "text": [
      "103 ms ± 957 µs per loop (mean ± std. dev. of 7 runs, 10 loops each)\n"
     ]
    }
   ],
   "source": [
    "%timeit iid_bootstrap_via_loop(x_2d, replications=replications)"
   ]
  },
  {
   "cell_type": "markdown",
   "metadata": {},
   "source": [
    "### Vectorized Implementation of Non-Balanced Boostrap"
   ]
  },
  {
   "cell_type": "code",
   "execution_count": 39,
   "metadata": {
    "ExecuteTime": {
     "end_time": "2020-02-05T10:16:16.157553Z",
     "start_time": "2020-02-05T10:16:14.516228Z"
    }
   },
   "outputs": [
    {
     "name": "stdout",
     "output_type": "stream",
     "text": [
      "202 ms ± 2.25 ms per loop (mean ± std. dev. of 7 runs, 1 loop each)\n"
     ]
    }
   ],
   "source": [
    "%timeit iid_bootstrap_vectorized(x_2d, replications=replications)"
   ]
  },
  {
   "cell_type": "markdown",
   "metadata": {},
   "source": [
    "# Resampling on the GPU"
   ]
  },
  {
   "cell_type": "markdown",
   "metadata": {},
   "source": [
    "This part requires an ArrayFire installation, a compatible GPU, and the installation of Cocos. "
   ]
  },
  {
   "cell_type": "code",
   "execution_count": 40,
   "metadata": {
    "ExecuteTime": {
     "end_time": "2020-02-05T10:16:17.725704Z",
     "start_time": "2020-02-05T10:16:16.158922Z"
    }
   },
   "outputs": [],
   "source": [
    "import cocos.numerics as cn\n",
    "from cocos.device import gpu_sync_wrapper, sync"
   ]
  },
  {
   "cell_type": "code",
   "execution_count": 41,
   "metadata": {
    "ExecuteTime": {
     "end_time": "2020-02-05T10:16:18.056476Z",
     "start_time": "2020-02-05T10:16:17.727529Z"
    }
   },
   "outputs": [
    {
     "data": {
      "image/png": "[encoded data removed]",
      "text/plain": [
       "<Figure size 432x288 with 1 Axes>"
      ]
     },
     "metadata": {
      "needs_background": "light"
     },
     "output_type": "display_data"
    }
   ],
   "source": [
    "n = 100\n",
    "cn.random.seed(1)\n",
    "x_gpu = cn.absolute(cn.random.randn(n))\n",
    "plt.hist(x_gpu);"
   ]
  },
  {
   "cell_type": "code",
   "execution_count": 42,
   "metadata": {
    "ExecuteTime": {
     "end_time": "2020-02-05T10:16:18.336947Z",
     "start_time": "2020-02-05T10:16:18.058087Z"
    }
   },
   "outputs": [],
   "source": [
    "x_resampled_via_choice_gpu \\\n",
    "    = iid_bootstrap_via_choice(x_gpu, replications=replications, choice=cn.random.choice)\n",
    "sync()"
   ]
  },
  {
   "cell_type": "code",
   "execution_count": 43,
   "metadata": {
    "ExecuteTime": {
     "end_time": "2020-02-05T10:16:18.557249Z",
     "start_time": "2020-02-05T10:16:18.338676Z"
    }
   },
   "outputs": [
    {
     "data": {
      "image/png": "[encoded data removed]",
      "text/plain": [
       "<Figure size 432x288 with 1 Axes>"
      ]
     },
     "metadata": {
      "needs_background": "light"
     },
     "output_type": "display_data"
    }
   ],
   "source": [
    "plt.hist(x_resampled_via_choice_gpu.mean(axis=1));"
   ]
  },
  {
   "cell_type": "code",
   "execution_count": 44,
   "metadata": {
    "ExecuteTime": {
     "end_time": "2020-02-05T10:16:18.637971Z",
     "start_time": "2020-02-05T10:16:18.558993Z"
    }
   },
   "outputs": [],
   "source": [
    "x_resampled_vectorized_gpu \\\n",
    "    = iid_bootstrap_vectorized(x_gpu, replications=R, randint=cn.random.randint)\n",
    "sync()"
   ]
  },
  {
   "cell_type": "code",
   "execution_count": 45,
   "metadata": {
    "ExecuteTime": {
     "end_time": "2020-02-05T10:16:18.792214Z",
     "start_time": "2020-02-05T10:16:18.640131Z"
    }
   },
   "outputs": [
    {
     "data": {
      "image/png": "[encoded data removed]",
      "text/plain": [
       "<Figure size 432x288 with 1 Axes>"
      ]
     },
     "metadata": {
      "needs_background": "light"
     },
     "output_type": "display_data"
    }
   ],
   "source": [
    "plt.hist(x_resampled_vectorized_gpu.mean(axis=1));"
   ]
  },
  {
   "cell_type": "code",
   "execution_count": 46,
   "metadata": {
    "ExecuteTime": {
     "end_time": "2020-02-05T10:16:19.228769Z",
     "start_time": "2020-02-05T10:16:18.793769Z"
    }
   },
   "outputs": [],
   "source": [
    "x_resampled_vectorized_antithetic_gpu \\\n",
    "    = iid_bootstrap_with_antithetic_resampling(x_gpu, replications=R, randint=cn.random.randint, num_pack=cn)\n",
    "sync()"
   ]
  },
  {
   "cell_type": "code",
   "execution_count": 47,
   "metadata": {
    "ExecuteTime": {
     "end_time": "2020-02-05T10:16:19.450208Z",
     "start_time": "2020-02-05T10:16:19.230811Z"
    }
   },
   "outputs": [
    {
     "data": {
      "image/png": "[encoded data removed]",
      "text/plain": [
       "<Figure size 432x288 with 1 Axes>"
      ]
     },
     "metadata": {
      "needs_background": "light"
     },
     "output_type": "display_data"
    }
   ],
   "source": [
    "plt.hist(x_resampled_vectorized_antithetic_gpu.mean(axis=1));"
   ]
  },
  {
   "cell_type": "markdown",
   "metadata": {},
   "source": [
    "## Performance Analysis of One-Dimensional Bootstrap"
   ]
  },
  {
   "cell_type": "markdown",
   "metadata": {},
   "source": [
    "Transfer data to GPU"
   ]
  },
  {
   "cell_type": "code",
   "execution_count": 48,
   "metadata": {
    "ExecuteTime": {
     "end_time": "2020-02-05T10:16:19.472733Z",
     "start_time": "2020-02-05T10:16:19.451812Z"
    }
   },
   "outputs": [],
   "source": [
    "x_1d_gpu = cn.array(x_1d)"
   ]
  },
  {
   "cell_type": "markdown",
   "metadata": {},
   "source": [
    "### Implementation via NumPy Choice of Non-Balanced Boostrap"
   ]
  },
  {
   "cell_type": "code",
   "execution_count": 49,
   "metadata": {
    "ExecuteTime": {
     "end_time": "2020-02-05T10:16:22.071223Z",
     "start_time": "2020-02-05T10:16:19.474310Z"
    }
   },
   "outputs": [
    {
     "name": "stdout",
     "output_type": "stream",
     "text": [
      "30.3 ms ± 46.7 µs per loop (mean ± std. dev. of 7 runs, 10 loops each)\n"
     ]
    }
   ],
   "source": [
    "%timeit gpu_sync_wrapper(iid_bootstrap_via_choice, x_1d_gpu, replications=replications, choice=cn.random.choice)"
   ]
  },
  {
   "cell_type": "markdown",
   "metadata": {},
   "source": [
    "### Vectorized Implementation of Non-Balanced Boostrap"
   ]
  },
  {
   "cell_type": "code",
   "execution_count": 50,
   "metadata": {
    "ExecuteTime": {
     "end_time": "2020-02-05T10:16:23.950852Z",
     "start_time": "2020-02-05T10:16:22.072935Z"
    }
   },
   "outputs": [
    {
     "name": "stdout",
     "output_type": "stream",
     "text": [
      "22.8 ms ± 61.9 µs per loop (mean ± std. dev. of 7 runs, 10 loops each)\n"
     ]
    }
   ],
   "source": [
    "%timeit gpu_sync_wrapper(iid_bootstrap_vectorized, x_1d_gpu, replications=replications, randint=cn.random.randint)"
   ]
  },
  {
   "cell_type": "markdown",
   "metadata": {},
   "source": [
    "### Vectorized Implementation of Non-Balanced Boostrap with Antithetic Sampling"
   ]
  },
  {
   "cell_type": "code",
   "execution_count": 51,
   "metadata": {
    "ExecuteTime": {
     "end_time": "2020-02-05T10:16:26.889837Z",
     "start_time": "2020-02-05T10:16:23.952915Z"
    }
   },
   "outputs": [
    {
     "name": "stdout",
     "output_type": "stream",
     "text": [
      "34.8 ms ± 661 µs per loop (mean ± std. dev. of 7 runs, 10 loops each)\n"
     ]
    }
   ],
   "source": [
    "%timeit gpu_sync_wrapper(iid_bootstrap_with_antithetic_resampling, x_1d_gpu, replications=replications, num_pack=cn, randint=cn.random.randint)"
   ]
  },
  {
   "cell_type": "markdown",
   "metadata": {},
   "source": [
    "## Performance Analysis of Multivariate Bootstrap"
   ]
  },
  {
   "cell_type": "markdown",
   "metadata": {},
   "source": [
    "Transfer data to GPU"
   ]
  },
  {
   "cell_type": "code",
   "execution_count": 52,
   "metadata": {
    "ExecuteTime": {
     "end_time": "2020-02-05T10:16:26.918977Z",
     "start_time": "2020-02-05T10:16:26.892260Z"
    }
   },
   "outputs": [],
   "source": [
    "x_2d_gpu = cn.array(x_2d)"
   ]
  },
  {
   "cell_type": "markdown",
   "metadata": {},
   "source": [
    "### Vectorized Implementation of Non-Balanced Boostrap"
   ]
  },
  {
   "cell_type": "code",
   "execution_count": 53,
   "metadata": {
    "ExecuteTime": {
     "end_time": "2020-02-05T10:16:28.831765Z",
     "start_time": "2020-02-05T10:16:26.920858Z"
    }
   },
   "outputs": [
    {
     "name": "stdout",
     "output_type": "stream",
     "text": [
      "22.9 ms ± 109 µs per loop (mean ± std. dev. of 7 runs, 10 loops each)\n"
     ]
    }
   ],
   "source": [
    "%timeit gpu_sync_wrapper(iid_bootstrap_vectorized, x_2d_gpu, replications=replications, randint=cn.random.randint)"
   ]
  },
  {
   "cell_type": "code",
   "execution_count": null,
   "metadata": {},
   "outputs": [],
   "source": []
  }
 ],
 "metadata": {
  "kernelspec": {
   "display_name": "Python 3",
   "language": "python",
   "name": "python3"
  },
  "language_info": {
   "codemirror_mode": {
    "name": "ipython",
    "version": 3
   },
   "file_extension": ".py",
   "mimetype": "text/x-python",
   "name": "python",
   "nbconvert_exporter": "python",
   "pygments_lexer": "ipython3",
   "version": "3.7.3"
  },
  "toc": {
   "base_numbering": 1,
   "nav_menu": {},
   "number_sections": true,
   "sideBar": true,
   "skip_h1_title": false,
   "title_cell": "Table of Contents",
   "title_sidebar": "Contents",
   "toc_cell": false,
   "toc_position": {},
   "toc_section_display": true,
   "toc_window_display": false
  }
 },
 "nbformat": 4,
 "nbformat_minor": 2
}
