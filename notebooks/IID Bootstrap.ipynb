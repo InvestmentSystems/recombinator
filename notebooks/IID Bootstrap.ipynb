{
 "cells": [
  {
   "cell_type": "code",
   "execution_count": 1,
   "metadata": {
    "ExecuteTime": {
     "end_time": "2019-07-01T21:52:58.244211Z",
     "start_time": "2019-07-01T21:52:58.055842Z"
    }
   },
   "outputs": [],
   "source": [
    "%load_ext autoreload\n",
    "%autoreload 2"
   ]
  },
  {
   "cell_type": "code",
   "execution_count": 2,
   "metadata": {
    "ExecuteTime": {
     "end_time": "2019-07-01T21:52:58.334007Z",
     "start_time": "2019-07-01T21:52:58.246163Z"
    }
   },
   "outputs": [],
   "source": [
    "# %load_ext line_profiler"
   ]
  },
  {
   "cell_type": "code",
   "execution_count": 3,
   "metadata": {
    "ExecuteTime": {
     "end_time": "2019-07-01T21:52:59.669332Z",
     "start_time": "2019-07-01T21:52:58.334978Z"
    }
   },
   "outputs": [],
   "source": [
    "import line_profiler\n",
    "import math\n",
    "import matplotlib\n",
    "import numba\n",
    "import numpy as np\n",
    "import pandas as pd\n",
    "import matplotlib.pyplot as plt\n",
    "%matplotlib inline\n",
    "import typing as tp"
   ]
  },
  {
   "cell_type": "code",
   "execution_count": 4,
   "metadata": {
    "ExecuteTime": {
     "end_time": "2019-07-01T21:53:00.040204Z",
     "start_time": "2019-07-01T21:52:59.672216Z"
    }
   },
   "outputs": [],
   "source": [
    "from recombinator.iid_bootstrap import \\\n",
    "    iid_balanced_bootstrap, \\\n",
    "    iid_bootstrap, \\\n",
    "    iid_bootstrap_vectorized, \\\n",
    "    iid_bootstrap_via_choice, \\\n",
    "    iid_bootstrap_via_loop, \\\n",
    "    iid_bootstrap_with_antithetic_resampling"
   ]
  },
  {
   "cell_type": "code",
   "execution_count": 5,
   "metadata": {
    "ExecuteTime": {
     "end_time": "2019-07-01T21:53:00.273430Z",
     "start_time": "2019-07-01T21:53:00.043095Z"
    }
   },
   "outputs": [],
   "source": [
    "from recombinator.statistics import \\\n",
    "    estimate_bias_from_bootstrap, \\\n",
    "    estimate_confidence_interval_from_bootstrap, \\\n",
    "    estimate_standard_error_from_bootstrap"
   ]
  },
  {
   "cell_type": "markdown",
   "metadata": {},
   "source": [
    "# I.I.D. Bootstrap: Examples and Performance Analysis"
   ]
  },
  {
   "cell_type": "markdown",
   "metadata": {},
   "source": [
    "The bootstrap is a statistical resampling method typically used to determine the finite sample properties of an estimator.\n",
    "\n",
    "Recombinator provides non-parametric bootstrap methods for both i.i.d. and dependent data. This notebook covers the i.i.d case.\n",
    "\n",
    "The discussion is based on Kevin Sheppard's course notes available at: https://www.kevinsheppard.com/images/6/64/AFE_Week_1_handout.pdf"
   ]
  },
  {
   "cell_type": "markdown",
   "metadata": {},
   "source": [
    "# An Introductory Example"
   ]
  },
  {
   "cell_type": "markdown",
   "metadata": {},
   "source": [
    "Consider an i.i.d. sample $\\{x_1, ..., x_n\\}$ coming from a random variable $x$. \n",
    "\n",
    "* An unbiased estimator for the mean is $\\bar{x}=\\frac{1}{n} \\sum_{i=1}^n x_i$.\n",
    "* One is often interested in aspects of the distribution of an estimator such quantiles or confidence intervals.\n",
    "* One way to approximate the distribution of this estimator is to resort to asymtotic theory. Under weak assumptions, as the sample size approaches infinity, the estimator is normally distributed with the sample mean equal to the true mean of the $x$ and a the standard deviation equal to the standard error.\n",
    "* The variance of the estimator is given by\n",
    "$ \\text{SE} \\left[ \\bar{x} \\right]^2 = \\text{Var} \\left[ \\bar{x} \\right] = \\text{Var} \\left[ \\frac{1}{n} \\sum_{i=1}^n x_i \\right] = \\frac{1}{n^2} n \\text{Var} \\left[ x \\right] = \\frac{1}{n} \\text{Var} \\left[ x \\right]$.\n",
    "* Hence, the asymptotic distribution of $\\bar{x}$ is $N \\left( \\text{E} \\left[ x \\right], \\frac{1}{n} \\text{Var} \\left[ x \\right] \\right)$.\n",
    "* In practice, the mean $\\text{E} \\left[ x \\right]$ and the variance $\\text{Var} \\left[ x \\right]$ are replaced by their sample analogues $\\bar{x}$ and $\\frac{1}{n-1} \\sum_{i=1}^n \\left( x_i - \\bar{x} \\right)^2$.\n",
    "\n",
    "There are two central questions:\n",
    "* How much does the actual distribution for a finite sample size n differ from the limiting distribution as n approaches infinity?\n",
    "* How do we determine the distribution of statistics other than the mean?\n",
    "\n",
    "The bootstrap can be used to approximate the final sample distribution of statistic by Monte Carlo simulation. "
   ]
  },
  {
   "cell_type": "markdown",
   "metadata": {},
   "source": [
    "# Overview"
   ]
  },
  {
   "cell_type": "markdown",
   "metadata": {},
   "source": [
    "The idea is to generate R new samples (known as replications) from the original sample with replacement and estimate the statistic (e.g. the sample mean) from each sample. The resulting set of estimates can then be used to compute quantiles and moments of the distribution of the estimator. \n",
    "\n",
    "One variation is do draw samples of smaller size $\\tilde{n} < n$. This is known as subsampling.\n",
    "\n",
    "Ideally, we would compute all permuations (or combinations if order does not matter as for the mean) of the original sample. But this grows computaionally infeasible for all but the very smallest samples. This is why we use Monte Carlo to draw a smaller set of new samples."
   ]
  },
  {
   "cell_type": "markdown",
   "metadata": {},
   "source": [
    "# I.I.D. Methods"
   ]
  },
  {
   "cell_type": "markdown",
   "metadata": {},
   "source": [
    "## Non-Balanced Bootstrap"
   ]
  },
  {
   "cell_type": "markdown",
   "metadata": {},
   "source": [
    "This is the most basic bootstrap approach. For each replication (subsample) r, we draw n random integers as indices into the original data array and return the values at these indices."
   ]
  },
  {
   "cell_type": "markdown",
   "metadata": {},
   "source": [
    "## Non-Balanced Bootstrap with Antithetic Sampling"
   ]
  },
  {
   "cell_type": "markdown",
   "metadata": {},
   "source": [
    "Antithetic sampling is a variance reduction technique commonly used in Monte Carlo simulations. The central idea is to construct negatively correlated samples. This is achieved by first sorting the data. As in the basic bootstrap, one draws a set of indices for each replication. Denote the $i$th sampled index in replication $r$ by $u_{r, i}$. Antithetic samples are then generatet by constructing alternative sequences of indices $\\tilde{u}_{r, i} = n - u_{r, i} - 1$"
   ]
  },
  {
   "cell_type": "markdown",
   "metadata": {},
   "source": [
    "## Balanced Bootstrap"
   ]
  },
  {
   "cell_type": "markdown",
   "metadata": {},
   "source": [
    "Due to random sampling, some observations appear more often in the R new samples than others. The balanced bootstrap ensures that all original values appear exact R times across the R new samples. Of course in any given sample a particular observation may appear multiple times or not at all."
   ]
  },
  {
   "cell_type": "markdown",
   "metadata": {},
   "source": [
    "In what follows, we are comparing different implementations of these algorithms."
   ]
  },
  {
   "cell_type": "markdown",
   "metadata": {},
   "source": [
    "# Resampling in Practice"
   ]
  },
  {
   "cell_type": "markdown",
   "metadata": {},
   "source": [
    "Let's generate an original random sample from a normal distribution of size 100 and take the absolute value."
   ]
  },
  {
   "cell_type": "code",
   "execution_count": 6,
   "metadata": {
    "ExecuteTime": {
     "end_time": "2019-07-01T21:53:00.891364Z",
     "start_time": "2019-07-01T21:53:00.566391Z"
    }
   },
   "outputs": [
    {
     "data": {
      "image/png": "[encoded data removed]",
      "text/plain": [
       "<Figure size 432x288 with 1 Axes>"
      ]
     },
     "metadata": {
      "needs_background": "light"
     },
     "output_type": "display_data"
    }
   ],
   "source": [
    "n=100\n",
    "np.random.seed(1)\n",
    "x = np.abs(np.random.randn(n))\n",
    "plt.hist(x);"
   ]
  },
  {
   "cell_type": "markdown",
   "metadata": {},
   "source": [
    "Estimate the 75th percentile from the original sample"
   ]
  },
  {
   "cell_type": "code",
   "execution_count": 7,
   "metadata": {
    "ExecuteTime": {
     "end_time": "2019-07-01T21:53:01.440927Z",
     "start_time": "2019-07-01T21:53:01.193022Z"
    }
   },
   "outputs": [
    {
     "data": {
      "text/plain": [
       "0.9322689195424352"
      ]
     },
     "execution_count": 7,
     "metadata": {},
     "output_type": "execute_result"
    }
   ],
   "source": [
    "percentile = 75\n",
    "original_statistic = np.percentile(x, percentile)\n",
    "original_statistic"
   ]
  },
  {
   "cell_type": "markdown",
   "metadata": {},
   "source": [
    "Generate R new samples from the original sample via bootstrap"
   ]
  },
  {
   "cell_type": "code",
   "execution_count": 8,
   "metadata": {
    "ExecuteTime": {
     "end_time": "2019-07-01T21:53:02.534042Z",
     "start_time": "2019-07-01T21:53:01.744493Z"
    }
   },
   "outputs": [
    {
     "data": {
      "text/plain": [
       "(100000, 100)"
      ]
     },
     "execution_count": 8,
     "metadata": {},
     "output_type": "execute_result"
    }
   ],
   "source": [
    "R = 100000\n",
    "x_resampled \\\n",
    "    = iid_bootstrap(x, replications=R)\n",
    "x_resampled.shape"
   ]
  },
  {
   "cell_type": "markdown",
   "metadata": {},
   "source": [
    "Estimate the 75th percentile in each of the new samples"
   ]
  },
  {
   "cell_type": "code",
   "execution_count": 9,
   "metadata": {
    "ExecuteTime": {
     "end_time": "2019-07-01T21:53:02.955707Z",
     "start_time": "2019-07-01T21:53:02.535018Z"
    }
   },
   "outputs": [
    {
     "data": {
      "image/png": "[encoded data removed]",
      "text/plain": [
       "<Figure size 432x288 with 1 Axes>"
      ]
     },
     "metadata": {
      "needs_background": "light"
     },
     "output_type": "display_data"
    }
   ],
   "source": [
    "resampled_statistic = np.percentile(x_resampled, percentile, axis=1)\n",
    "# resampled_statistic.shape\n",
    "plt.hist(resampled_statistic);"
   ]
  },
  {
   "cell_type": "markdown",
   "metadata": {},
   "source": [
    "Estimate the standard error of the estimate of the 75th percentile via bootstrap"
   ]
  },
  {
   "cell_type": "code",
   "execution_count": 10,
   "metadata": {
    "ExecuteTime": {
     "end_time": "2019-07-01T21:53:03.192875Z",
     "start_time": "2019-07-01T21:53:02.956683Z"
    }
   },
   "outputs": [
    {
     "data": {
      "text/plain": [
       "0.11243429988588766"
      ]
     },
     "execution_count": 10,
     "metadata": {},
     "output_type": "execute_result"
    }
   ],
   "source": [
    "estimate_standard_error_from_bootstrap(bootstrap_estimates=resampled_statistic,\n",
    "                                       original_estimate=original_statistic)"
   ]
  },
  {
   "cell_type": "markdown",
   "metadata": {},
   "source": [
    "Estimate a 95% confidence interval via bootstrap"
   ]
  },
  {
   "cell_type": "code",
   "execution_count": 11,
   "metadata": {
    "ExecuteTime": {
     "end_time": "2019-07-01T21:53:03.505238Z",
     "start_time": "2019-07-01T21:53:03.193856Z"
    }
   },
   "outputs": [
    {
     "data": {
      "text/plain": [
       "(0.8404455864357776, 1.1343515900941052)"
      ]
     },
     "execution_count": 11,
     "metadata": {},
     "output_type": "execute_result"
    }
   ],
   "source": [
    "estimate_confidence_interval_from_bootstrap(bootstrap_estimates=resampled_statistic, \n",
    "                                            confidence_level=95)"
   ]
  },
  {
   "cell_type": "code",
   "execution_count": 12,
   "metadata": {},
   "outputs": [],
   "source": [
    "# estimate"
   ]
  },
  {
   "cell_type": "markdown",
   "metadata": {},
   "source": [
    "# Monte-Carlo Study to for the Estimate the Mean of a Normally Distributed Random Variable"
   ]
  },
  {
   "cell_type": "markdown",
   "metadata": {},
   "source": [
    "Define a linear transformation of the data"
   ]
  },
  {
   "cell_type": "code",
   "execution_count": 13,
   "metadata": {
    "ExecuteTime": {
     "end_time": "2019-07-01T21:53:03.748261Z",
     "start_time": "2019-07-01T21:53:03.506215Z"
    }
   },
   "outputs": [],
   "source": [
    "a = 0.0\n",
    "b = 1.0\n",
    "\n",
    "def f(y):\n",
    "    return a + b * y"
   ]
  },
  {
   "cell_type": "code",
   "execution_count": 14,
   "metadata": {
    "ExecuteTime": {
     "end_time": "2019-07-01T21:53:04.808194Z",
     "start_time": "2019-07-01T21:53:03.749237Z"
    }
   },
   "outputs": [
    {
     "name": "stdout",
     "output_type": "stream",
     "text": [
      "estimate of mean from data=0.060582852075698704\n",
      "asymptotic standard error=0.08896154673124122\n",
      "asymptotic confidence interval=(-0.11378177951753408, 0.23494748366893148)\n"
     ]
    },
    {
     "data": {
      "text/html": [
       "<div>\n",
       "<style scoped>\n",
       "    .dataframe tbody tr th:only-of-type {\n",
       "        vertical-align: middle;\n",
       "    }\n",
       "\n",
       "    .dataframe tbody tr th {\n",
       "        vertical-align: top;\n",
       "    }\n",
       "\n",
       "    .dataframe thead th {\n",
       "        text-align: right;\n",
       "    }\n",
       "</style>\n",
       "<table border=\"1\" class=\"dataframe\">\n",
       "  <thead>\n",
       "    <tr style=\"text-align: right;\">\n",
       "      <th></th>\n",
       "      <th>Method</th>\n",
       "      <th>Bias</th>\n",
       "      <th>Standard Error</th>\n",
       "      <th>Confidence Interval</th>\n",
       "    </tr>\n",
       "  </thead>\n",
       "  <tbody>\n",
       "    <tr>\n",
       "      <th>0</th>\n",
       "      <td>Non-Balanced Bootstrap via Unified Loop</td>\n",
       "      <td>-0.000731</td>\n",
       "      <td>0.087846</td>\n",
       "      <td>(-0.11455925167526604, 0.23106916892482685)</td>\n",
       "    </tr>\n",
       "    <tr>\n",
       "      <th>1</th>\n",
       "      <td>Non-Balanced Bootstrap via Unified Loop with A...</td>\n",
       "      <td>0.000040</td>\n",
       "      <td>0.087281</td>\n",
       "      <td>(-0.1106752465566684, 0.2313740565164534)</td>\n",
       "    </tr>\n",
       "    <tr>\n",
       "      <th>2</th>\n",
       "      <td>Non-Balanced Bootstrap via Separated Loop</td>\n",
       "      <td>-0.000121</td>\n",
       "      <td>0.087691</td>\n",
       "      <td>(-0.11568869751201379, 0.2283185166273135)</td>\n",
       "    </tr>\n",
       "    <tr>\n",
       "      <th>3</th>\n",
       "      <td>Non-Balanced Bootstrap via Choice</td>\n",
       "      <td>0.000251</td>\n",
       "      <td>0.088819</td>\n",
       "      <td>(-0.11612777210771391, 0.23775586355892206)</td>\n",
       "    </tr>\n",
       "    <tr>\n",
       "      <th>4</th>\n",
       "      <td>Non-Balanced Bootstrap Vectorized</td>\n",
       "      <td>-0.000167</td>\n",
       "      <td>0.089525</td>\n",
       "      <td>(-0.11186332015622133, 0.23683474609923935)</td>\n",
       "    </tr>\n",
       "    <tr>\n",
       "      <th>5</th>\n",
       "      <td>Non-Balanced Bootstrap with Antithetic Sampling</td>\n",
       "      <td>-0.000023</td>\n",
       "      <td>0.088220</td>\n",
       "      <td>(-0.11141925698937019, 0.23246309041266683)</td>\n",
       "    </tr>\n",
       "    <tr>\n",
       "      <th>6</th>\n",
       "      <td>Balanced Bootstrap</td>\n",
       "      <td>0.000000</td>\n",
       "      <td>0.087402</td>\n",
       "      <td>(-0.1098030823908348, 0.22986166853590667)</td>\n",
       "    </tr>\n",
       "  </tbody>\n",
       "</table>\n",
       "</div>"
      ],
      "text/plain": [
       "                                              Method      Bias  \\\n",
       "0            Non-Balanced Bootstrap via Unified Loop -0.000731   \n",
       "1  Non-Balanced Bootstrap via Unified Loop with A...  0.000040   \n",
       "2          Non-Balanced Bootstrap via Separated Loop -0.000121   \n",
       "3                  Non-Balanced Bootstrap via Choice  0.000251   \n",
       "4                  Non-Balanced Bootstrap Vectorized -0.000167   \n",
       "5    Non-Balanced Bootstrap with Antithetic Sampling -0.000023   \n",
       "6                                 Balanced Bootstrap  0.000000   \n",
       "\n",
       "   Standard Error                          Confidence Interval  \n",
       "0        0.087846  (-0.11455925167526604, 0.23106916892482685)  \n",
       "1        0.087281    (-0.1106752465566684, 0.2313740565164534)  \n",
       "2        0.087691   (-0.11568869751201379, 0.2283185166273135)  \n",
       "3        0.088819  (-0.11612777210771391, 0.23775586355892206)  \n",
       "4        0.089525  (-0.11186332015622133, 0.23683474609923935)  \n",
       "5        0.088220  (-0.11141925698937019, 0.23246309041266683)  \n",
       "6        0.087402   (-0.1098030823908348, 0.22986166853590667)  "
      ]
     },
     "execution_count": 14,
     "metadata": {},
     "output_type": "execute_result"
    }
   ],
   "source": [
    "bootstrap_function_name_to_function_map \\\n",
    "    = {'Non-Balanced Bootstrap via Unified Loop': iid_bootstrap,\n",
    "       'Non-Balanced Bootstrap via Unified Loop with Antithetic Sampling': \n",
    "       lambda x, replications: iid_bootstrap(x, \n",
    "                                             replications=replications, \n",
    "                                             antithetic=True),\n",
    "       'Non-Balanced Bootstrap via Separated Loop': iid_bootstrap_via_loop,\n",
    "       'Non-Balanced Bootstrap via Choice': iid_bootstrap_via_choice,\n",
    "       'Non-Balanced Bootstrap Vectorized': iid_bootstrap_vectorized,\n",
    "       'Non-Balanced Bootstrap with Antithetic Sampling': iid_bootstrap_with_antithetic_resampling,\n",
    "       'Balanced Bootstrap': iid_balanced_bootstrap}\n",
    "\n",
    "np.random.seed(1)\n",
    "\n",
    "n = 100\n",
    "x = np.random.randn(n)\n",
    "\n",
    "# compute sample-average of f(x)\n",
    "theta = np.mean(f(x))\n",
    "s2 = 1.0 / (n-1) * np.sum((f(x) - theta)**2)\n",
    "standard_error = s2/n\n",
    "replications = 10000\n",
    "\n",
    "# initialize lists to hold results\n",
    "bootstrap_methods = []\n",
    "bootstrap_estimates_of_bias = []\n",
    "bootstrap_estimates_of_standard_error = []\n",
    "bootstrap_confidence_intervals = []\n",
    "\n",
    "for (bootstrap_name, bootstrap_function) in bootstrap_function_name_to_function_map.items():\n",
    "    x_star = bootstrap_function(x, replications=replications)\n",
    "    theta_star = np.mean(f(x_star), axis=1)\n",
    "\n",
    "    bootstrap_estimate_of_bias = estimate_bias_from_bootstrap(theta_star, theta)\n",
    "    bootstrap_estimate_of_standard_error = estimate_standard_error_from_bootstrap(theta_star, theta)\n",
    "    bootstrap_confidence_interval = estimate_confidence_interval_from_bootstrap(theta_star)\n",
    "        \n",
    "    bootstrap_methods.append(bootstrap_name)\n",
    "    bootstrap_estimates_of_bias.append(bootstrap_estimate_of_bias)\n",
    "    bootstrap_estimates_of_standard_error.append(bootstrap_estimate_of_standard_error)\n",
    "    bootstrap_confidence_intervals.append(bootstrap_confidence_interval)\n",
    "\n",
    "print(f'estimate of mean from data={theta}')\n",
    "print(f'asymptotic standard error={np.sqrt(standard_error)}')\n",
    "print(f'asymptotic confidence interval=({theta - 1.96 * np.sqrt(standard_error)}, {theta + 1.96 * np.sqrt(standard_error)})')\n",
    "\n",
    "df = pd.DataFrame(data={'Method': bootstrap_methods, \n",
    "                        'Bias': bootstrap_estimates_of_bias, \n",
    "                        'Standard Error': bootstrap_estimates_of_standard_error,\n",
    "                        'Confidence Interval': bootstrap_confidence_intervals})\n",
    "df = df[['Method', 'Bias', 'Standard Error', 'Confidence Interval']]\n",
    "df"
   ]
  },
  {
   "cell_type": "markdown",
   "metadata": {},
   "source": [
    "We see that in this case of a linear statistic of a normally distributed random variable, the asymptotic approximation of the confidence interval is very close to the actual finite sample result from the bootstrap."
   ]
  },
  {
   "cell_type": "markdown",
   "metadata": {},
   "source": [
    "# Monte-Carlo Study for the Estimate of a Non-Linear Function of a Multi-Variate Normal Distribution"
   ]
  },
  {
   "cell_type": "markdown",
   "metadata": {},
   "source": [
    "Define a nonlinear transformation of the data"
   ]
  },
  {
   "cell_type": "code",
   "execution_count": 15,
   "metadata": {
    "ExecuteTime": {
     "end_time": "2019-07-01T21:53:05.230113Z",
     "start_time": "2019-07-01T21:53:04.809169Z"
    }
   },
   "outputs": [],
   "source": [
    "def g(x):\n",
    "    return 2 + x**2 + 3 * x**3 + np.exp(x)"
   ]
  },
  {
   "cell_type": "markdown",
   "metadata": {
    "ExecuteTime": {
     "end_time": "2019-06-12T00:59:20.234617Z",
     "start_time": "2019-06-12T00:59:20.214791Z"
    }
   },
   "source": [
    "Perform Monte Carlo experiment with different algorithms"
   ]
  },
  {
   "cell_type": "code",
   "execution_count": 16,
   "metadata": {
    "ExecuteTime": {
     "end_time": "2019-07-01T21:53:11.734186Z",
     "start_time": "2019-07-01T21:53:05.238906Z"
    },
    "scrolled": false
   },
   "outputs": [
    {
     "name": "stdout",
     "output_type": "stream",
     "text": [
      "estimate of mean from data=4.604871361908453\n",
      "asymptotic standard error=0.642854070168613\n",
      "asymptotic confidence interval=(3.3448773843779716, 5.864865339438934)\n"
     ]
    },
    {
     "data": {
      "text/html": [
       "<div>\n",
       "<style scoped>\n",
       "    .dataframe tbody tr th:only-of-type {\n",
       "        vertical-align: middle;\n",
       "    }\n",
       "\n",
       "    .dataframe tbody tr th {\n",
       "        vertical-align: top;\n",
       "    }\n",
       "\n",
       "    .dataframe thead th {\n",
       "        text-align: right;\n",
       "    }\n",
       "</style>\n",
       "<table border=\"1\" class=\"dataframe\">\n",
       "  <thead>\n",
       "    <tr style=\"text-align: right;\">\n",
       "      <th></th>\n",
       "      <th>Method</th>\n",
       "      <th>Bias</th>\n",
       "      <th>Standard Error</th>\n",
       "      <th>Confidence Interval</th>\n",
       "    </tr>\n",
       "  </thead>\n",
       "  <tbody>\n",
       "    <tr>\n",
       "      <th>0</th>\n",
       "      <td>Non-Balanced Bootstrap via Unified Loop</td>\n",
       "      <td>-0.000487</td>\n",
       "      <td>0.684923</td>\n",
       "      <td>(3.7132406565910814, 5.591972820513682)</td>\n",
       "    </tr>\n",
       "    <tr>\n",
       "      <th>1</th>\n",
       "      <td>Non-Balanced Bootstrap via Separeted Loop</td>\n",
       "      <td>0.000456</td>\n",
       "      <td>0.686423</td>\n",
       "      <td>(3.7021893784856745, 5.605861108187801)</td>\n",
       "    </tr>\n",
       "    <tr>\n",
       "      <th>2</th>\n",
       "      <td>Non-Balanced Bootstrap Vectorized</td>\n",
       "      <td>-0.001773</td>\n",
       "      <td>0.686792</td>\n",
       "      <td>(3.7043546315683233, 5.611964808642076)</td>\n",
       "    </tr>\n",
       "    <tr>\n",
       "      <th>3</th>\n",
       "      <td>Balanced Bootstrap</td>\n",
       "      <td>0.000000</td>\n",
       "      <td>0.684742</td>\n",
       "      <td>(3.712513916736439, 5.599944076087733)</td>\n",
       "    </tr>\n",
       "  </tbody>\n",
       "</table>\n",
       "</div>"
      ],
      "text/plain": [
       "                                      Method      Bias  Standard Error  \\\n",
       "0    Non-Balanced Bootstrap via Unified Loop -0.000487        0.684923   \n",
       "1  Non-Balanced Bootstrap via Separeted Loop  0.000456        0.686423   \n",
       "2          Non-Balanced Bootstrap Vectorized -0.001773        0.686792   \n",
       "3                         Balanced Bootstrap  0.000000        0.684742   \n",
       "\n",
       "                       Confidence Interval  \n",
       "0  (3.7132406565910814, 5.591972820513682)  \n",
       "1  (3.7021893784856745, 5.605861108187801)  \n",
       "2  (3.7043546315683233, 5.611964808642076)  \n",
       "3   (3.712513916736439, 5.599944076087733)  "
      ]
     },
     "execution_count": 16,
     "metadata": {},
     "output_type": "execute_result"
    }
   ],
   "source": [
    "bootstrap_function_name_to_function_map \\\n",
    "    = {'Non-Balanced Bootstrap via Unified Loop': iid_bootstrap,\n",
    "       'Non-Balanced Bootstrap via Separeted Loop': iid_bootstrap_via_loop,\n",
    "       'Non-Balanced Bootstrap Vectorized': iid_bootstrap_vectorized,\n",
    "       'Balanced Bootstrap': iid_balanced_bootstrap}\n",
    "\n",
    "np.random.seed(1)\n",
    "\n",
    "n = 1000\n",
    "x = np.random.multivariate_normal(mean=[0, 0], cov=[[1, 0.25], [0.25, 1]], size=n)\n",
    "\n",
    "# compute estimate of the sample-average of g(x) \n",
    "# and its standard error\n",
    "theta = np.mean(g(x))\n",
    "s2 = 1.0 / (n-1) * np.sum((g(x) - theta)**2)\n",
    "standard_error = s2/n\n",
    "\n",
    "# number of replications\n",
    "replications = 10000\n",
    "\n",
    "# initialize lists to hold results\n",
    "bootstrap_methods = []\n",
    "bootstrap_estimates_of_bias = []\n",
    "bootstrap_estimates_of_standard_error = []\n",
    "bootstrap_confidence_intervals = []\n",
    "\n",
    "for (bootstrap_name, bootstrap_function) in bootstrap_function_name_to_function_map.items():\n",
    "    x_star = bootstrap_function(x, replications=replications)\n",
    "    theta_star = np.mean(g(x_star), axis=1)\n",
    "\n",
    "    bootstrap_estimate_of_bias = estimate_bias_from_bootstrap(theta_star, theta)\n",
    "    bootstrap_estimate_of_standard_error = estimate_standard_error_from_bootstrap(theta_star, theta)\n",
    "    bootstrap_confidence_interval = estimate_confidence_interval_from_bootstrap(theta_star)\n",
    "        \n",
    "    bootstrap_methods.append(bootstrap_name)\n",
    "    bootstrap_estimates_of_bias.append(bootstrap_estimate_of_bias)\n",
    "    bootstrap_estimates_of_standard_error.append(bootstrap_estimate_of_standard_error)\n",
    "    bootstrap_confidence_intervals.append(bootstrap_confidence_interval)\n",
    "\n",
    "print(f'estimate of mean from data={theta}')\n",
    "print(f'asymptotic standard error={np.sqrt(standard_error)}')\n",
    "print(f'asymptotic confidence interval=({theta - 1.96 * np.sqrt(standard_error)}, {theta + 1.96 * np.sqrt(standard_error)})')\n",
    "\n",
    "df = pd.DataFrame(data={'Method': bootstrap_methods, \n",
    "                        'Bias': bootstrap_estimates_of_bias, \n",
    "                        'Standard Error': bootstrap_estimates_of_standard_error,\n",
    "                        'Confidence Interval': bootstrap_confidence_intervals})\n",
    "df = df[['Method', 'Bias', 'Standard Error', 'Confidence Interval']]\n",
    "df"
   ]
  },
  {
   "cell_type": "markdown",
   "metadata": {},
   "source": [
    "Note that in the case of this non-linear transformation, the asymptotic approximation is not quite as accurate as in the case of a linear transformation. Feel free to increase the sample size n in the above example to see how the accuracy of the asymptotic approximation improves as n approaches infinity."
   ]
  },
  {
   "cell_type": "markdown",
   "metadata": {},
   "source": [
    "# Performance Analysis"
   ]
  },
  {
   "cell_type": "markdown",
   "metadata": {},
   "source": [
    "## Performance Analysis of One-Dimensional Bootstrap"
   ]
  },
  {
   "cell_type": "markdown",
   "metadata": {},
   "source": [
    "Length of Data to Sample From"
   ]
  },
  {
   "cell_type": "code",
   "execution_count": 17,
   "metadata": {
    "ExecuteTime": {
     "end_time": "2019-07-01T21:53:12.171433Z",
     "start_time": "2019-07-01T21:53:11.736140Z"
    }
   },
   "outputs": [],
   "source": [
    "n = 1000"
   ]
  },
  {
   "cell_type": "markdown",
   "metadata": {},
   "source": [
    "Generate Data to Sample From"
   ]
  },
  {
   "cell_type": "code",
   "execution_count": 18,
   "metadata": {
    "ExecuteTime": {
     "end_time": "2019-07-01T21:53:12.588708Z",
     "start_time": "2019-07-01T21:53:12.172409Z"
    }
   },
   "outputs": [],
   "source": [
    "x_1d = np.random.randn(n)"
   ]
  },
  {
   "cell_type": "markdown",
   "metadata": {},
   "source": [
    "Number of Replications"
   ]
  },
  {
   "cell_type": "code",
   "execution_count": 19,
   "metadata": {
    "ExecuteTime": {
     "end_time": "2019-07-01T21:53:13.004500Z",
     "start_time": "2019-07-01T21:53:12.589160Z"
    }
   },
   "outputs": [],
   "source": [
    "replications = 10000"
   ]
  },
  {
   "cell_type": "markdown",
   "metadata": {},
   "source": [
    "### Implementation of Non-Balanced Boostrap via Unified Loops"
   ]
  },
  {
   "cell_type": "code",
   "execution_count": 20,
   "metadata": {
    "ExecuteTime": {
     "end_time": "2019-07-01T21:53:13.533561Z",
     "start_time": "2019-07-01T21:53:13.005551Z"
    }
   },
   "outputs": [],
   "source": [
    "x_star = iid_bootstrap(x_1d, replications=replications, antithetic=False)"
   ]
  },
  {
   "cell_type": "code",
   "execution_count": 21,
   "metadata": {
    "ExecuteTime": {
     "end_time": "2019-07-01T21:53:13.951792Z",
     "start_time": "2019-07-01T21:53:13.534537Z"
    }
   },
   "outputs": [
    {
     "data": {
      "text/plain": [
       "(10000, 1000)"
      ]
     },
     "execution_count": 21,
     "metadata": {},
     "output_type": "execute_result"
    }
   ],
   "source": [
    "x_star.shape"
   ]
  },
  {
   "cell_type": "code",
   "execution_count": 22,
   "metadata": {
    "ExecuteTime": {
     "end_time": "2019-07-01T21:53:22.737510Z",
     "start_time": "2019-07-01T21:53:13.952768Z"
    }
   },
   "outputs": [
    {
     "name": "stdout",
     "output_type": "stream",
     "text": [
      "66.2 ms ± 465 µs per loop (mean ± std. dev. of 7 runs, 10 loops each)\n"
     ]
    }
   ],
   "source": [
    "%timeit iid_bootstrap(x_1d, replications=replications, antithetic=False)"
   ]
  },
  {
   "cell_type": "markdown",
   "metadata": {},
   "source": [
    "### Implementation of Non-Balanced Boostrap via Separate Loops"
   ]
  },
  {
   "cell_type": "code",
   "execution_count": 23,
   "metadata": {
    "ExecuteTime": {
     "end_time": "2019-07-01T21:53:23.240653Z",
     "start_time": "2019-07-01T21:53:22.738486Z"
    }
   },
   "outputs": [],
   "source": [
    "x_star = iid_bootstrap_via_loop(x_1d, replications=replications)"
   ]
  },
  {
   "cell_type": "code",
   "execution_count": 24,
   "metadata": {
    "ExecuteTime": {
     "end_time": "2019-07-01T21:53:23.661340Z",
     "start_time": "2019-07-01T21:53:23.241629Z"
    }
   },
   "outputs": [
    {
     "data": {
      "text/plain": [
       "(10000, 1000)"
      ]
     },
     "execution_count": 24,
     "metadata": {},
     "output_type": "execute_result"
    }
   ],
   "source": [
    "x_star.shape"
   ]
  },
  {
   "cell_type": "code",
   "execution_count": 25,
   "metadata": {
    "ExecuteTime": {
     "end_time": "2019-07-01T21:53:30.071414Z",
     "start_time": "2019-07-01T21:53:23.662288Z"
    }
   },
   "outputs": [
    {
     "name": "stdout",
     "output_type": "stream",
     "text": [
      "59.9 ms ± 8.38 ms per loop (mean ± std. dev. of 7 runs, 10 loops each)\n"
     ]
    }
   ],
   "source": [
    "%timeit iid_bootstrap_via_loop(x_1d, replications=replications)"
   ]
  },
  {
   "cell_type": "markdown",
   "metadata": {},
   "source": [
    "### Implementation via NumPy Choice of Non-Balanced Boostrap"
   ]
  },
  {
   "cell_type": "code",
   "execution_count": 26,
   "metadata": {
    "ExecuteTime": {
     "end_time": "2019-07-01T21:53:38.438356Z",
     "start_time": "2019-07-01T21:53:30.072391Z"
    }
   },
   "outputs": [
    {
     "name": "stdout",
     "output_type": "stream",
     "text": [
      "75.1 ms ± 1.07 ms per loop (mean ± std. dev. of 7 runs, 10 loops each)\n"
     ]
    }
   ],
   "source": [
    "%timeit iid_bootstrap_via_choice(x_1d, replications=replications)"
   ]
  },
  {
   "cell_type": "markdown",
   "metadata": {},
   "source": [
    "### Vectorized Implementation of Non-Balanced Boostrap"
   ]
  },
  {
   "cell_type": "code",
   "execution_count": 27,
   "metadata": {
    "ExecuteTime": {
     "end_time": "2019-07-01T21:53:46.815881Z",
     "start_time": "2019-07-01T21:53:38.439339Z"
    }
   },
   "outputs": [
    {
     "name": "stdout",
     "output_type": "stream",
     "text": [
      "81.1 ms ± 5.45 ms per loop (mean ± std. dev. of 7 runs, 10 loops each)\n"
     ]
    }
   ],
   "source": [
    "%timeit iid_bootstrap_vectorized(x_1d, replications=replications)"
   ]
  },
  {
   "cell_type": "code",
   "execution_count": 28,
   "metadata": {
    "ExecuteTime": {
     "end_time": "2019-07-01T21:53:47.239480Z",
     "start_time": "2019-07-01T21:53:46.816861Z"
    }
   },
   "outputs": [],
   "source": [
    "# %lprun -f iid_bootstrap_vectorized \\\n",
    "#           iid_bootstrap_vectorized(x, replications=replications)"
   ]
  },
  {
   "cell_type": "markdown",
   "metadata": {},
   "source": [
    "### Vectorized Implementation of Non-Balanced Boostrap with Antithetic Sampling"
   ]
  },
  {
   "cell_type": "code",
   "execution_count": 29,
   "metadata": {
    "ExecuteTime": {
     "end_time": "2019-07-01T21:53:56.770833Z",
     "start_time": "2019-07-01T21:53:47.240773Z"
    }
   },
   "outputs": [
    {
     "name": "stdout",
     "output_type": "stream",
     "text": [
      "81.3 ms ± 3.23 ms per loop (mean ± std. dev. of 7 runs, 10 loops each)\n"
     ]
    }
   ],
   "source": [
    "%timeit iid_bootstrap_with_antithetic_resampling(x_1d, replications=replications)"
   ]
  },
  {
   "cell_type": "code",
   "execution_count": 30,
   "metadata": {
    "ExecuteTime": {
     "end_time": "2019-07-01T21:53:57.194483Z",
     "start_time": "2019-07-01T21:53:56.771812Z"
    }
   },
   "outputs": [],
   "source": [
    "# %lprun -f iid_bootstrap_with_antithetic_resampling \\\n",
    "#           iid_bootstrap_with_antithetic_resampling(x, replications=replications)"
   ]
  },
  {
   "cell_type": "markdown",
   "metadata": {},
   "source": [
    "### Balanced Bootstrap"
   ]
  },
  {
   "cell_type": "code",
   "execution_count": 31,
   "metadata": {
    "ExecuteTime": {
     "end_time": "2019-07-01T21:54:02.014677Z",
     "start_time": "2019-07-01T21:53:57.195459Z"
    }
   },
   "outputs": [
    {
     "name": "stdout",
     "output_type": "stream",
     "text": [
      "548 ms ± 41.4 ms per loop (mean ± std. dev. of 7 runs, 1 loop each)\n"
     ]
    }
   ],
   "source": [
    "%timeit iid_balanced_bootstrap(x_1d, replications=replications)"
   ]
  },
  {
   "cell_type": "code",
   "execution_count": 32,
   "metadata": {
    "ExecuteTime": {
     "end_time": "2019-07-01T21:54:02.429542Z",
     "start_time": "2019-07-01T21:54:02.015653Z"
    }
   },
   "outputs": [],
   "source": [
    "# %lprun -f iid_balanced_bootstrap \\\n",
    "#           iid_balanced_bootstrap(x, replications=replications)"
   ]
  },
  {
   "cell_type": "markdown",
   "metadata": {},
   "source": [
    "## Performance Analysis of Multivariate Bootstrap"
   ]
  },
  {
   "cell_type": "markdown",
   "metadata": {},
   "source": [
    "Length of Data to Sample From"
   ]
  },
  {
   "cell_type": "code",
   "execution_count": 33,
   "metadata": {
    "ExecuteTime": {
     "end_time": "2019-07-01T21:54:02.836133Z",
     "start_time": "2019-07-01T21:54:02.430518Z"
    }
   },
   "outputs": [],
   "source": [
    "n = 1000"
   ]
  },
  {
   "cell_type": "markdown",
   "metadata": {},
   "source": [
    "Generate Data to Sample From"
   ]
  },
  {
   "cell_type": "code",
   "execution_count": 34,
   "metadata": {
    "ExecuteTime": {
     "end_time": "2019-07-01T21:54:03.243822Z",
     "start_time": "2019-07-01T21:54:02.837109Z"
    }
   },
   "outputs": [],
   "source": [
    "x_2d = np.random.multivariate_normal(mean=[0, 0], cov=[[1, 0.25], [0.25, 1]], size=n)"
   ]
  },
  {
   "cell_type": "markdown",
   "metadata": {},
   "source": [
    "### Implementation of Non-Balanced Boostrap via Unified Loops"
   ]
  },
  {
   "cell_type": "code",
   "execution_count": 35,
   "metadata": {
    "ExecuteTime": {
     "end_time": "2019-07-01T21:54:04.257177Z",
     "start_time": "2019-07-01T21:54:03.655215Z"
    }
   },
   "outputs": [],
   "source": [
    "x_star = iid_bootstrap(x_2d, replications=replications, antithetic=False)"
   ]
  },
  {
   "cell_type": "code",
   "execution_count": 36,
   "metadata": {
    "ExecuteTime": {
     "end_time": "2019-07-01T21:54:06.292842Z",
     "start_time": "2019-07-01T21:54:04.258153Z"
    }
   },
   "outputs": [
    {
     "name": "stdout",
     "output_type": "stream",
     "text": [
      "281 ms ± 20.7 ms per loop (mean ± std. dev. of 7 runs, 1 loop each)\n"
     ]
    }
   ],
   "source": [
    "%timeit iid_bootstrap(x_2d, replications=replications, antithetic=False)"
   ]
  },
  {
   "cell_type": "markdown",
   "metadata": {},
   "source": [
    "### Implementation of Non-Balanced Boostrap via Separate Loops"
   ]
  },
  {
   "cell_type": "code",
   "execution_count": 37,
   "metadata": {
    "ExecuteTime": {
     "end_time": "2019-07-01T21:54:06.839907Z",
     "start_time": "2019-07-01T21:54:06.293819Z"
    }
   },
   "outputs": [],
   "source": [
    "x_star = iid_bootstrap_via_loop(x_2d, replications=replications)"
   ]
  },
  {
   "cell_type": "code",
   "execution_count": 38,
   "metadata": {
    "ExecuteTime": {
     "end_time": "2019-07-01T21:54:18.388200Z",
     "start_time": "2019-07-01T21:54:06.840882Z"
    }
   },
   "outputs": [
    {
     "name": "stdout",
     "output_type": "stream",
     "text": [
      "177 ms ± 9.66 ms per loop (mean ± std. dev. of 7 runs, 10 loops each)\n"
     ]
    }
   ],
   "source": [
    "%timeit iid_bootstrap_via_loop(x_2d, replications=replications)"
   ]
  },
  {
   "cell_type": "markdown",
   "metadata": {},
   "source": [
    "### Vectorized Implementation of Non-Balanced Boostrap"
   ]
  },
  {
   "cell_type": "code",
   "execution_count": 39,
   "metadata": {
    "ExecuteTime": {
     "end_time": "2019-07-01T21:54:34.838577Z",
     "start_time": "2019-07-01T21:54:18.390152Z"
    }
   },
   "outputs": [
    {
     "name": "stdout",
     "output_type": "stream",
     "text": [
      "251 ms ± 6.82 ms per loop (mean ± std. dev. of 7 runs, 1 loop each)\n"
     ]
    }
   ],
   "source": [
    "%timeit iid_bootstrap_vectorized(x_2d, replications=replications)"
   ]
  },
  {
   "cell_type": "markdown",
   "metadata": {},
   "source": [
    "# Resampling on the GPU"
   ]
  },
  {
   "cell_type": "markdown",
   "metadata": {},
   "source": [
    "This part requires an ArrayFire installation, a compatible GPU, and the installation of Cocos. "
   ]
  },
  {
   "cell_type": "code",
   "execution_count": 40,
   "metadata": {},
   "outputs": [],
   "source": [
    "import cocos.numerics as cn\n",
    "from cocos.device import gpu_sync_wrapper, sync"
   ]
  },
  {
   "cell_type": "code",
   "execution_count": 41,
   "metadata": {},
   "outputs": [
    {
     "data": {
      "image/png": "[encoded data removed]",
      "text/plain": [
       "<Figure size 432x288 with 1 Axes>"
      ]
     },
     "metadata": {
      "needs_background": "light"
     },
     "output_type": "display_data"
    }
   ],
   "source": [
    "n = 100\n",
    "cn.random.seed(1)\n",
    "x_gpu = cn.absolute(cn.random.randn(n))\n",
    "plt.hist(x_gpu);"
   ]
  },
  {
   "cell_type": "code",
   "execution_count": 42,
   "metadata": {},
   "outputs": [],
   "source": [
    "x_resampled_via_choice_gpu \\\n",
    "    = iid_bootstrap_via_choice(x_gpu, replications=replications, choice=cn.random.choice)\n",
    "sync()"
   ]
  },
  {
   "cell_type": "code",
   "execution_count": 43,
   "metadata": {},
   "outputs": [
    {
     "data": {
      "image/png": "[encoded data removed]",
      "text/plain": [
       "<Figure size 432x288 with 1 Axes>"
      ]
     },
     "metadata": {
      "needs_background": "light"
     },
     "output_type": "display_data"
    }
   ],
   "source": [
    "plt.hist(x_resampled_via_choice_gpu.mean(axis=1));"
   ]
  },
  {
   "cell_type": "code",
   "execution_count": 44,
   "metadata": {},
   "outputs": [],
   "source": [
    "x_resampled_vectorized_gpu \\\n",
    "    = iid_bootstrap_vectorized(x_gpu, replications=R, randint=cn.random.randint)\n",
    "sync()"
   ]
  },
  {
   "cell_type": "code",
   "execution_count": 45,
   "metadata": {},
   "outputs": [
    {
     "data": {
      "image/png": "[encoded data removed]",
      "text/plain": [
       "<Figure size 432x288 with 1 Axes>"
      ]
     },
     "metadata": {
      "needs_background": "light"
     },
     "output_type": "display_data"
    }
   ],
   "source": [
    "plt.hist(x_resampled_vectorized_gpu.mean(axis=1));"
   ]
  },
  {
   "cell_type": "code",
   "execution_count": 46,
   "metadata": {},
   "outputs": [],
   "source": [
    "x_resampled_vectorized_antithetic_gpu \\\n",
    "    = iid_bootstrap_with_antithetic_resampling(x_gpu, replications=R, randint=cn.random.randint, num_pack=cn)\n",
    "sync()"
   ]
  },
  {
   "cell_type": "code",
   "execution_count": 47,
   "metadata": {},
   "outputs": [
    {
     "data": {
      "image/png": "[encoded data removed]",
      "text/plain": [
       "<Figure size 432x288 with 1 Axes>"
      ]
     },
     "metadata": {
      "needs_background": "light"
     },
     "output_type": "display_data"
    }
   ],
   "source": [
    "plt.hist(x_resampled_vectorized_antithetic_gpu.mean(axis=1));"
   ]
  },
  {
   "cell_type": "markdown",
   "metadata": {},
   "source": [
    "## Performance Analysis of One-Dimensional Bootstrap"
   ]
  },
  {
   "cell_type": "markdown",
   "metadata": {},
   "source": [
    "Transfer data to GPU"
   ]
  },
  {
   "cell_type": "code",
   "execution_count": 48,
   "metadata": {},
   "outputs": [],
   "source": [
    "x_1d_gpu = cn.array(x_1d)"
   ]
  },
  {
   "cell_type": "markdown",
   "metadata": {},
   "source": [
    "### Implementation via NumPy Choice of Non-Balanced Boostrap"
   ]
  },
  {
   "cell_type": "code",
   "execution_count": 49,
   "metadata": {},
   "outputs": [
    {
     "name": "stdout",
     "output_type": "stream",
     "text": [
      "30.1 ms ± 165 µs per loop (mean ± std. dev. of 7 runs, 10 loops each)\n"
     ]
    }
   ],
   "source": [
    "%timeit gpu_sync_wrapper(iid_bootstrap_via_choice, x_1d_gpu, replications=replications, choice=cn.random.choice)"
   ]
  },
  {
   "cell_type": "markdown",
   "metadata": {},
   "source": [
    "### Vectorized Implementation of Non-Balanced Boostrap"
   ]
  },
  {
   "cell_type": "code",
   "execution_count": 50,
   "metadata": {},
   "outputs": [
    {
     "name": "stdout",
     "output_type": "stream",
     "text": [
      "22.8 ms ± 74.3 µs per loop (mean ± std. dev. of 7 runs, 10 loops each)\n"
     ]
    }
   ],
   "source": [
    "%timeit gpu_sync_wrapper(iid_bootstrap_vectorized, x_1d_gpu, replications=replications, randint=cn.random.randint)"
   ]
  },
  {
   "cell_type": "markdown",
   "metadata": {},
   "source": [
    "### Vectorized Implementation of Non-Balanced Boostrap with Antithetic Sampling"
   ]
  },
  {
   "cell_type": "code",
   "execution_count": 51,
   "metadata": {},
   "outputs": [
    {
     "name": "stdout",
     "output_type": "stream",
     "text": [
      "34.6 ms ± 507 µs per loop (mean ± std. dev. of 7 runs, 10 loops each)\n"
     ]
    }
   ],
   "source": [
    "%timeit gpu_sync_wrapper(iid_bootstrap_with_antithetic_resampling, x_1d_gpu, replications=replications, num_pack=cn, randint=cn.random.randint)"
   ]
  },
  {
   "cell_type": "markdown",
   "metadata": {},
   "source": [
    "## Performance Analysis of Multivariate Bootstrap"
   ]
  },
  {
   "cell_type": "markdown",
   "metadata": {},
   "source": [
    "Transfer data to GPU"
   ]
  },
  {
   "cell_type": "code",
   "execution_count": 52,
   "metadata": {
    "ExecuteTime": {
     "end_time": "2019-07-01T21:54:03.243822Z",
     "start_time": "2019-07-01T21:54:02.837109Z"
    }
   },
   "outputs": [],
   "source": [
    "x_2d_gpu = cn.array(x_2d)"
   ]
  },
  {
   "cell_type": "markdown",
   "metadata": {},
   "source": [
    "### Vectorized Implementation of Non-Balanced Boostrap"
   ]
  },
  {
   "cell_type": "code",
   "execution_count": 53,
   "metadata": {},
   "outputs": [
    {
     "name": "stdout",
     "output_type": "stream",
     "text": [
      "22.9 ms ± 414 µs per loop (mean ± std. dev. of 7 runs, 10 loops each)\n"
     ]
    }
   ],
   "source": [
    "%timeit gpu_sync_wrapper(iid_bootstrap_vectorized, x_2d_gpu, replications=replications, randint=cn.random.randint)"
   ]
  },
  {
   "cell_type": "code",
   "execution_count": null,
   "metadata": {},
   "outputs": [],
   "source": []
  }
 ],
 "metadata": {
  "kernelspec": {
   "display_name": "Python 3",
   "language": "python",
   "name": "python3"
  },
  "language_info": {
   "codemirror_mode": {
    "name": "ipython",
    "version": 3
   },
   "file_extension": ".py",
   "mimetype": "text/x-python",
   "name": "python",
   "nbconvert_exporter": "python",
   "pygments_lexer": "ipython3",
   "version": "3.6.8"
  }
 },
 "nbformat": 4,
 "nbformat_minor": 2
}
